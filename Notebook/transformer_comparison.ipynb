{
 "cells": [
  {
   "cell_type": "markdown",
   "metadata": {},
   "source": [
    "# Comparativa de Modelos Transformer para Detección de Comentarios Tóxicos\n",
    "\n",
    "Este notebook implementa y compara diferentes modelos Transformer (BERT, RoBERTa, DistilBERT y XLNet) para la detección de comentarios tóxicos, utilizando como referencia la implementación de BERT en el archivo `bert_fit.ipynb`."
   ]
  },
  {
   "cell_type": "markdown",
   "metadata": {},
   "source": [
    "## 1. Importación de Bibliotecas"
   ]
  },
  {
   "cell_type": "code",
   "execution_count": 19,
   "id": "377dd1ce",
   "metadata": {},
   "outputs": [],
   "source": [
    "import pandas as pd\n",
    "import numpy as np\n",
    "import matplotlib.pyplot as plt\n",
    "import seaborn as sns\n",
    "import re\n",
    "import string\n",
    "import nltk\n",
    "import os\n",
    "import time\n",
    "from nltk.corpus import stopwords\n",
    "from nltk.stem import WordNetLemmatizer\n",
    "from nltk.tokenize import word_tokenize\n",
    "from sklearn.model_selection import train_test_split\n",
    "from sklearn.metrics import accuracy_score, precision_score, recall_score, f1_score, confusion_matrix, classification_report\n",
    "import torch\n",
    "from torch.utils.data import Dataset, DataLoader\n",
    "from torch.optim import AdamW\n",
    "\n",
    "from transformers import (\n",
    "    BertTokenizer, BertForSequenceClassification,\n",
    "    RobertaTokenizer, RobertaForSequenceClassification,\n",
    "    DistilBertTokenizer, DistilBertForSequenceClassification,\n",
    "    AutoTokenizer, AutoModelForSequenceClassification,\n",
    "    get_linear_schedule_with_warmup\n",
    ")\n",
    "from tqdm import tqdm\n",
    "import emoji\n",
    "import warnings\n"
   ]
  },
  {
   "cell_type": "code",
   "execution_count": 4,
   "id": "399de1a9",
   "metadata": {},
   "outputs": [
    {
     "name": "stderr",
     "output_type": "stream",
     "text": [
      "[nltk_data] Downloading package punkt to C:\\Users\\Yho\\nltk_data...\n",
      "[nltk_data]   Package punkt is already up-to-date!\n",
      "[nltk_data] Downloading package stopwords to C:\\Users\\Yho\\nltk_data...\n",
      "[nltk_data]   Package stopwords is already up-to-date!\n",
      "[nltk_data] Downloading package wordnet to C:\\Users\\Yho\\nltk_data...\n",
      "[nltk_data]   Package wordnet is already up-to-date!\n",
      "[nltk_data] Downloading package omw-1.4 to C:\\Users\\Yho\\nltk_data...\n",
      "[nltk_data]   Package omw-1.4 is already up-to-date!\n"
     ]
    }
   ],
   "source": [
    "warnings.filterwarnings('ignore')\n",
    "\n",
    "# Definir una ruta específica para los datos de NLTK\n",
    "nltk_data_path = os.path.join(os.path.expanduser('~'), 'nltk_data')\n",
    "os.makedirs(nltk_data_path, exist_ok=True)\n",
    "\n",
    "# Descargar los recursos especificando la ruta\n",
    "nltk.download('punkt', download_dir=nltk_data_path)\n",
    "nltk.download('stopwords', download_dir=nltk_data_path)\n",
    "nltk.download('wordnet', download_dir=nltk_data_path)\n",
    "nltk.download('omw-1.4', download_dir=nltk_data_path)\n",
    "\n",
    "# Añadir la ruta al path de NLTK\n",
    "nltk.data.path.append(nltk_data_path)\n",
    "\n",
    "# Configurar estilo de visualización\n",
    "plt.style.use('ggplot')\n",
    "sns.set(style='whitegrid')"
   ]
  },
  {
   "cell_type": "code",
   "execution_count": 5,
   "id": "24e55358",
   "metadata": {},
   "outputs": [
    {
     "name": "stdout",
     "output_type": "stream",
     "text": [
      "Usando dispositivo: cuda\n",
      "2.5.1+cu121\n",
      "True\n",
      "NVIDIA GeForce RTX 4070\n"
     ]
    }
   ],
   "source": [
    "# Verificar si CUDA está disponible\n",
    "device = torch.device('cuda' if torch.cuda.is_available() else 'cpu')\n",
    "print(f'Usando dispositivo: {device}')\n",
    "\n",
    "print(torch.__version__)\n",
    "print(torch.cuda.is_available())\n",
    "print(torch.cuda.get_device_name())"
   ]
  },
  {
   "cell_type": "markdown",
   "id": "c8d67f3e",
   "metadata": {},
   "source": [
    "## 2. Carga y Preprocesamiento de Datos"
   ]
  },
  {
   "cell_type": "code",
   "execution_count": 6,
   "id": "80f89f65",
   "metadata": {},
   "outputs": [
    {
     "name": "stdout",
     "output_type": "stream",
     "text": [
      "Forma del dataset: (29970, 12)\n"
     ]
    },
    {
     "data": {
      "text/html": [
       "<div>\n",
       "<style scoped>\n",
       "    .dataframe tbody tr th:only-of-type {\n",
       "        vertical-align: middle;\n",
       "    }\n",
       "\n",
       "    .dataframe tbody tr th {\n",
       "        vertical-align: top;\n",
       "    }\n",
       "\n",
       "    .dataframe thead th {\n",
       "        text-align: right;\n",
       "    }\n",
       "</style>\n",
       "<table border=\"1\" class=\"dataframe\">\n",
       "  <thead>\n",
       "    <tr style=\"text-align: right;\">\n",
       "      <th></th>\n",
       "      <th>Record</th>\n",
       "      <th>General_judgement</th>\n",
       "      <th>Aligned_with_label</th>\n",
       "      <th>Violence (Low)</th>\n",
       "      <th>Violence_judgement</th>\n",
       "      <th>Hate (Low)</th>\n",
       "      <th>Hate_judgement</th>\n",
       "      <th>Sexual (Low)</th>\n",
       "      <th>Sexual_judgement</th>\n",
       "      <th>Self-harm (Low)</th>\n",
       "      <th>Self-harm_judgement</th>\n",
       "      <th>result</th>\n",
       "    </tr>\n",
       "  </thead>\n",
       "  <tbody>\n",
       "    <tr>\n",
       "      <th>0</th>\n",
       "      <td>\"Cry me a river, why don't you.\\r\\nDrinking, d...</td>\n",
       "      <td>Rejected</td>\n",
       "      <td>Y</td>\n",
       "      <td>SAFE</td>\n",
       "      <td>Accept</td>\n",
       "      <td>LOW</td>\n",
       "      <td>Reject</td>\n",
       "      <td>SAFE</td>\n",
       "      <td>Accept</td>\n",
       "      <td>SAFE</td>\n",
       "      <td>Accept</td>\n",
       "      <td>1</td>\n",
       "    </tr>\n",
       "    <tr>\n",
       "      <th>1</th>\n",
       "      <td>\"That's right. They are not normal. And I am s...</td>\n",
       "      <td>Rejected</td>\n",
       "      <td>Y</td>\n",
       "      <td>SAFE</td>\n",
       "      <td>Accept</td>\n",
       "      <td>LOW</td>\n",
       "      <td>Reject</td>\n",
       "      <td>SAFE</td>\n",
       "      <td>Accept</td>\n",
       "      <td>SAFE</td>\n",
       "      <td>Accept</td>\n",
       "      <td>1</td>\n",
       "    </tr>\n",
       "    <tr>\n",
       "      <th>2</th>\n",
       "      <td>\"Disgusting.\"</td>\n",
       "      <td>Accepted</td>\n",
       "      <td>N</td>\n",
       "      <td>SAFE</td>\n",
       "      <td>Accept</td>\n",
       "      <td>SAFE</td>\n",
       "      <td>Accept</td>\n",
       "      <td>SAFE</td>\n",
       "      <td>Accept</td>\n",
       "      <td>SAFE</td>\n",
       "      <td>Accept</td>\n",
       "      <td>0</td>\n",
       "    </tr>\n",
       "    <tr>\n",
       "      <th>3</th>\n",
       "      <td>\"gtfo\"</td>\n",
       "      <td>Accepted</td>\n",
       "      <td>N</td>\n",
       "      <td>SAFE</td>\n",
       "      <td>Accept</td>\n",
       "      <td>SAFE</td>\n",
       "      <td>Accept</td>\n",
       "      <td>SAFE</td>\n",
       "      <td>Accept</td>\n",
       "      <td>SAFE</td>\n",
       "      <td>Accept</td>\n",
       "      <td>0</td>\n",
       "    </tr>\n",
       "    <tr>\n",
       "      <th>4</th>\n",
       "      <td>\"All you ever talk about is trolling, you and ...</td>\n",
       "      <td>Rejected</td>\n",
       "      <td>Y</td>\n",
       "      <td>SAFE</td>\n",
       "      <td>Accept</td>\n",
       "      <td>LOW</td>\n",
       "      <td>Reject</td>\n",
       "      <td>SAFE</td>\n",
       "      <td>Accept</td>\n",
       "      <td>SAFE</td>\n",
       "      <td>Accept</td>\n",
       "      <td>1</td>\n",
       "    </tr>\n",
       "  </tbody>\n",
       "</table>\n",
       "</div>"
      ],
      "text/plain": [
       "                                              Record General_judgement  \\\n",
       "0  \"Cry me a river, why don't you.\\r\\nDrinking, d...          Rejected   \n",
       "1  \"That's right. They are not normal. And I am s...          Rejected   \n",
       "2                                      \"Disgusting.\"          Accepted   \n",
       "3                                             \"gtfo\"          Accepted   \n",
       "4  \"All you ever talk about is trolling, you and ...          Rejected   \n",
       "\n",
       "  Aligned_with_label Violence (Low) Violence_judgement Hate (Low)  \\\n",
       "0                  Y           SAFE             Accept        LOW   \n",
       "1                  Y           SAFE             Accept        LOW   \n",
       "2                  N           SAFE             Accept       SAFE   \n",
       "3                  N           SAFE             Accept       SAFE   \n",
       "4                  Y           SAFE             Accept        LOW   \n",
       "\n",
       "  Hate_judgement Sexual (Low) Sexual_judgement Self-harm (Low)  \\\n",
       "0         Reject         SAFE           Accept            SAFE   \n",
       "1         Reject         SAFE           Accept            SAFE   \n",
       "2         Accept         SAFE           Accept            SAFE   \n",
       "3         Accept         SAFE           Accept            SAFE   \n",
       "4         Reject         SAFE           Accept            SAFE   \n",
       "\n",
       "  Self-harm_judgement  result  \n",
       "0              Accept       1  \n",
       "1              Accept       1  \n",
       "2              Accept       0  \n",
       "3              Accept       0  \n",
       "4              Accept       1  "
      ]
     },
     "execution_count": 6,
     "metadata": {},
     "output_type": "execute_result"
    }
   ],
   "source": [
    "# Cargar el dataset\n",
    "data_path = '../Data/fusion30.csv'\n",
    "df = pd.read_csv(data_path, sep=';')\n",
    "print(f'Forma del dataset: {df.shape}')\n",
    "df.head()"
   ]
  },
  {
   "cell_type": "code",
   "execution_count": 7,
   "id": "2cdcd110",
   "metadata": {},
   "outputs": [
    {
     "name": "stdout",
     "output_type": "stream",
     "text": [
      "Distribución de clases:\n",
      "1    16468\n",
      "0    13502\n",
      "Name: count, dtype: int64\n"
     ]
    }
   ],
   "source": [
    "# Preparar los datos para el modelo\n",
    "# Extraer texto y etiquetas\n",
    "texts = df['Record'].str.strip('\"').values\n",
    "labels = df['result'].values\n",
    "\n",
    "# Verificar la distribución de clases\n",
    "print('Distribución de clases:')\n",
    "print(pd.Series(labels).value_counts())\n"
   ]
  },
  {
   "cell_type": "markdown",
   "id": "1eaf0960",
   "metadata": {},
   "source": [
    "### Funciones de Preprocesamiento"
   ]
  },
  {
   "cell_type": "code",
   "execution_count": 8,
   "id": "82994791",
   "metadata": {},
   "outputs": [],
   "source": [
    "def preprocess_text(text):\n",
    "    '''\n",
    "    Función para preprocesar el texto\n",
    "    '''\n",
    "    # Convertir a minúsculas\n",
    "    text = text.lower()\n",
    "    # Eliminar URLs\n",
    "    text = re.sub(r'https?://\\S+|www\\.\\S+', '', text)\n",
    "    # Convertir emojis a texto\n",
    "    text = emoji.demojize(text)\n",
    "    # Eliminar caracteres especiales y números\n",
    "    text = re.sub(r'[^\\w\\s]', '', text)\n",
    "    text = re.sub(r'\\d+', '', text)\n",
    "    # Tokenizar\n",
    "    tokens = word_tokenize(text)\n",
    "    # Eliminar stopwords\n",
    "    stop_words = set(stopwords.words('english'))\n",
    "    tokens = [word for word in tokens if word not in stop_words]\n",
    "    # Lematizar\n",
    "    lemmatizer = WordNetLemmatizer()\n",
    "    tokens = [lemmatizer.lemmatize(word) for word in tokens]\n",
    "    # Unir tokens\n",
    "    text = ' '.join(tokens)\n",
    "    \n",
    "    return text"
   ]
  },
  {
   "cell_type": "code",
   "execution_count": 9,
   "id": "88e6634a",
   "metadata": {},
   "outputs": [
    {
     "name": "stderr",
     "output_type": "stream",
     "text": [
      "Preprocesando textos: 100%|██████████| 29970/29970 [00:12<00:00, 2390.34it/s]\n"
     ]
    }
   ],
   "source": [
    "# Aplicar preprocesamiento a los textos\n",
    "preprocessed_texts = [preprocess_text(text) for text in tqdm(texts, desc='Preprocesando textos')]"
   ]
  },
  {
   "cell_type": "code",
   "execution_count": 10,
   "id": "f6e718be",
   "metadata": {},
   "outputs": [
    {
     "name": "stdout",
     "output_type": "stream",
     "text": [
      "Tamaño del conjunto de entrenamiento: 20979\n",
      "Tamaño del conjunto de validación: 4495\n",
      "Tamaño del conjunto de prueba: 4496\n"
     ]
    }
   ],
   "source": [
    "# Dividir los datos en conjuntos de entrenamiento, validación y prueba\n",
    "# Primero, dividir en entrenamiento y temporal (validación + prueba)\n",
    "train_texts, temp_texts, train_labels, temp_labels = train_test_split(\n",
    "    preprocessed_texts, labels, test_size=0.3, random_state=42, stratify=labels\n",
    ")\n",
    "\n",
    "# Luego, dividir el conjunto temporal en validación y prueba\n",
    "val_texts, test_texts, val_labels, test_labels = train_test_split(\n",
    "    temp_texts, temp_labels, test_size=0.5, random_state=42, stratify=temp_labels\n",
    ")\n",
    "\n",
    "print(f'Tamaño del conjunto de entrenamiento: {len(train_texts)}')\n",
    "print(f'Tamaño del conjunto de validación: {len(val_texts)}')\n",
    "print(f'Tamaño del conjunto de prueba: {len(test_texts)}')"
   ]
  },
  {
   "cell_type": "markdown",
   "id": "29d1c8ba",
   "metadata": {},
   "source": [
    "## 3. Implementación de la Clase Dataset"
   ]
  },
  {
   "cell_type": "code",
   "execution_count": 11,
   "id": "77a32ee4",
   "metadata": {},
   "outputs": [],
   "source": [
    "class ToxicCommentsDataset(Dataset):\n",
    "    def __init__(self, texts, labels, tokenizer, max_len):\n",
    "        self.texts = texts\n",
    "        self.labels = labels\n",
    "        self.tokenizer = tokenizer\n",
    "        self.max_len = max_len\n",
    "        \n",
    "    def __len__(self):\n",
    "        return len(self.texts)\n",
    "    \n",
    "    def __getitem__(self, idx):\n",
    "        text = str(self.texts[idx])\n",
    "        label = self.labels[idx]\n",
    "        \n",
    "        # Tokenizar el texto\n",
    "        encoding = self.tokenizer(\n",
    "            text,\n",
    "            add_special_tokens=True,\n",
    "            max_length=self.max_len,\n",
    "            padding='max_length',\n",
    "            truncation=True,\n",
    "            return_tensors='pt'\n",
    "        )\n",
    "        \n",
    "        # Eliminar la dimensión extra\n",
    "        input_ids = encoding['input_ids'].squeeze()\n",
    "        attention_mask = encoding['attention_mask'].squeeze()\n",
    "        \n",
    "        # Para BERT y DistilBERT necesitamos token_type_ids\n",
    "        if 'token_type_ids' in encoding:\n",
    "            token_type_ids = encoding['token_type_ids'].squeeze()\n",
    "            return {\n",
    "                'input_ids': input_ids,\n",
    "                'attention_mask': attention_mask,\n",
    "                'token_type_ids': token_type_ids,\n",
    "                'label': torch.tensor(label, dtype=torch.long)\n",
    "            }\n",
    "        else:  # Para RoBERTa y XLNet no usamos token_type_ids\n",
    "            return {\n",
    "                'input_ids': input_ids,\n",
    "                'attention_mask': attention_mask,\n",
    "                'label': torch.tensor(label, dtype=torch.long)\n",
    "            }"
   ]
  },
  {
   "cell_type": "markdown",
   "id": "6689ab88",
   "metadata": {},
   "source": [
    "## 4. Funciones de Entrenamiento y Evaluación"
   ]
  },
  {
   "cell_type": "code",
   "execution_count": 12,
   "id": "ff239483",
   "metadata": {},
   "outputs": [],
   "source": [
    "def train_epoch(model, dataloader, optimizer, scheduler, device, model_type):\n",
    "    '''\n",
    "    Función para entrenar una época\n",
    "    '''\n",
    "    # Poner el modelo en modo de entrenamiento\n",
    "    model.train()\n",
    "    \n",
    "    # Inicializar variables para seguimiento\n",
    "    total_loss = 0\n",
    "    predictions = []\n",
    "    actual_labels = []\n",
    "    \n",
    "    # Iterar sobre los batches\n",
    "    for batch in tqdm(dataloader, desc='Entrenando'):\n",
    "        # Extraer datos del batch\n",
    "        input_ids = batch['input_ids'].to(device)\n",
    "        attention_mask = batch['attention_mask'].to(device)\n",
    "        labels = batch['label'].to(device)\n",
    "        \n",
    "        # Reiniciar gradientes\n",
    "        optimizer.zero_grad()\n",
    "        \n",
    "        # Construir kwargs dinámicamente\n",
    "        model_inputs = {\n",
    "            \"input_ids\": input_ids,\n",
    "            \"attention_mask\": attention_mask,\n",
    "            \"labels\": labels\n",
    "        }\n",
    "        # Solo agregar token_type_ids si el modelo los necesita y están disponibles\n",
    "        if model_type == 'bert' and 'token_type_ids' in batch:\n",
    "            model_inputs[\"token_type_ids\"] = batch['token_type_ids'].to(device)\n",
    "\n",
    "        outputs = model(**model_inputs)   \n",
    "   \n",
    "        \n",
    "        # Obtener pérdida y logits\n",
    "        loss = outputs.loss\n",
    "        logits = outputs.logits\n",
    "        \n",
    "        # Backward pass y optimización\n",
    "        loss.backward()\n",
    "        optimizer.step()\n",
    "        scheduler.step()\n",
    "        \n",
    "        # Acumular pérdida\n",
    "        total_loss += loss.item()\n",
    "        \n",
    "        # Obtener predicciones\n",
    "        _, preds = torch.max(logits, dim=1)\n",
    "        \n",
    "        # Guardar predicciones y etiquetas reales\n",
    "        predictions.extend(preds.cpu().tolist())\n",
    "        actual_labels.extend(labels.cpu().tolist())\n",
    "    \n",
    "    # Calcular métricas\n",
    "    avg_loss = total_loss / len(dataloader)\n",
    "    accuracy = accuracy_score(actual_labels, predictions)\n",
    "    f1 = f1_score(actual_labels, predictions)\n",
    "    precision = precision_score(actual_labels, predictions)\n",
    "    recall = recall_score(actual_labels, predictions)\n",
    "    \n",
    "    return avg_loss, accuracy, f1, precision, recall"
   ]
  },
  {
   "cell_type": "code",
   "execution_count": 13,
   "id": "9afaaf74",
   "metadata": {},
   "outputs": [],
   "source": [
    "def evaluate(model, dataloader, device, model_type):\n",
    "    '''\n",
    "    Función para evaluar el modelo\n",
    "    '''\n",
    "    # Poner el modelo en modo de evaluación\n",
    "    model.eval()\n",
    "    \n",
    "    # Inicializar variables para seguimiento\n",
    "    total_loss = 0\n",
    "    predictions = []\n",
    "    actual_labels = []\n",
    "    \n",
    "    # Desactivar cálculo de gradientes\n",
    "    with torch.no_grad():\n",
    "        # Iterar sobre los batches\n",
    "        for batch in tqdm(dataloader, desc='Evaluando'):\n",
    "            # Extraer datos del batch\n",
    "            input_ids = batch['input_ids'].to(device)\n",
    "            attention_mask = batch['attention_mask'].to(device)\n",
    "            labels = batch['label'].to(device)\n",
    "            \n",
    "           # Construir argumentos dinámicamente\n",
    "            model_inputs = {\n",
    "                \"input_ids\": input_ids,\n",
    "                \"attention_mask\": attention_mask,\n",
    "                \"labels\": labels\n",
    "            }\n",
    "\n",
    "            # Agregar token_type_ids solo si corresponde\n",
    "            if model_type == 'bert' and 'token_type_ids' in batch:\n",
    "                model_inputs[\"token_type_ids\"] = batch['token_type_ids'].to(device)\n",
    "\n",
    "            outputs = model(**model_inputs)\n",
    "            \n",
    "            # Obtener pérdida y logits\n",
    "            loss = outputs.loss\n",
    "            logits = outputs.logits\n",
    "            \n",
    "            # Acumular pérdida\n",
    "            total_loss += loss.item()\n",
    "            \n",
    "            # Obtener predicciones\n",
    "            _, preds = torch.max(logits, dim=1)\n",
    "            \n",
    "            # Guardar predicciones y etiquetas reales\n",
    "            predictions.extend(preds.cpu().tolist())\n",
    "            actual_labels.extend(labels.cpu().tolist())\n",
    "    \n",
    "    # Calcular métricas\n",
    "    avg_loss = total_loss / len(dataloader)\n",
    "    accuracy = accuracy_score(actual_labels, predictions)\n",
    "    f1 = f1_score(actual_labels, predictions)\n",
    "    precision = precision_score(actual_labels, predictions)\n",
    "    recall = recall_score(actual_labels, predictions)\n",
    "    \n",
    "    # Calcular matriz de confusión\n",
    "    conf_matrix = confusion_matrix(actual_labels, predictions)\n",
    "    \n",
    "    return avg_loss, accuracy, f1, precision, recall, conf_matrix, predictions, actual_labels"
   ]
  },
  {
   "cell_type": "markdown",
   "id": "c691d60d",
   "metadata": {},
   "source": [
    "## 5. Configuración de Hiperparámetros"
   ]
  },
  {
   "cell_type": "code",
   "execution_count": 14,
   "id": "f706f2e4",
   "metadata": {},
   "outputs": [],
   "source": [
    "# Hiperparámetros\n",
    "MAX_LEN = 128\n",
    "BATCH_SIZE = 16\n",
    "EPOCHS = 4\n",
    "LEARNING_RATE = 2e-5\n",
    "WARMUP_STEPS = 0\n",
    "\n",
    "# Modelos a comparar\n",
    "models_config = {\n",
    "    'deberta': {\n",
    "        'name': 'microsoft/deberta-v3-small',\n",
    "        'tokenizer_class': AutoTokenizer,\n",
    "        'model_class': AutoModelForSequenceClassification,\n",
    "        'type': 'deberta'\n",
    "    },\n",
    "    'bert': {\n",
    "        'name': 'bert-base-uncased',\n",
    "        'tokenizer_class': BertTokenizer,\n",
    "        'model_class': BertForSequenceClassification,\n",
    "        'type': 'bert'\n",
    "    },\n",
    "    'roberta': {\n",
    "        'name': 'roberta-base',\n",
    "        'tokenizer_class': RobertaTokenizer,\n",
    "        'model_class': RobertaForSequenceClassification,\n",
    "        'type': 'roberta'\n",
    "    },\n",
    "    'distilbert': {\n",
    "        'name': 'distilbert-base-uncased',\n",
    "        'tokenizer_class': DistilBertTokenizer,\n",
    "        'model_class': DistilBertForSequenceClassification,\n",
    "        'type': 'distilbert'\n",
    "    }\n",
    "    \n",
    "}\n",
    "\n",
    "# Resultados para comparar modelos\n",
    "results = {}"
   ]
  },
  {
   "cell_type": "markdown",
   "id": "6281dd77",
   "metadata": {},
   "source": [
    "## 6. Entrenamiento y Evaluación de Modelos"
   ]
  },
  {
   "cell_type": "code",
   "execution_count": 17,
   "id": "62a783d6",
   "metadata": {},
   "outputs": [],
   "source": [
    "# Función para entrenar y evaluar un modelo\n",
    "def train_and_evaluate_model(model_name, model_config):\n",
    "    print(f' Entrenando y evaluando modelo: {model_name}')\n",
    "    \n",
    "    # Cargar tokenizador\n",
    "    tokenizer = model_config['tokenizer_class'].from_pretrained(model_config['name'])\n",
    "    \n",
    "    # Crear datasets\n",
    "    train_dataset = ToxicCommentsDataset(train_texts, train_labels, tokenizer, MAX_LEN)\n",
    "    val_dataset = ToxicCommentsDataset(val_texts, val_labels, tokenizer, MAX_LEN)\n",
    "    test_dataset = ToxicCommentsDataset(test_texts, test_labels, tokenizer, MAX_LEN)\n",
    "    \n",
    "    # Crear dataloaders\n",
    "    train_dataloader = DataLoader(train_dataset, batch_size=BATCH_SIZE, shuffle=True)\n",
    "    val_dataloader = DataLoader(val_dataset, batch_size=BATCH_SIZE)\n",
    "    test_dataloader = DataLoader(test_dataset, batch_size=BATCH_SIZE)\n",
    "    \n",
    "    # Cargar modelo\n",
    "    model = model_config['model_class'].from_pretrained(\n",
    "        model_config['name'],\n",
    "        num_labels=2,\n",
    "        output_attentions=False,\n",
    "        output_hidden_states=False,\n",
    "        use_safetensors=True\n",
    "    )\n",
    "    \n",
    "    # Mover modelo al dispositivo\n",
    "    model.to(device)\n",
    "    \n",
    "    # Configurar optimizador\n",
    "    optimizer = AdamW(model.parameters(), lr=LEARNING_RATE)\n",
    "    \n",
    "    # Calcular pasos totales\n",
    "    total_steps = len(train_dataloader) * EPOCHS\n",
    "    \n",
    "    # Configurar scheduler\n",
    "    scheduler = get_linear_schedule_with_warmup(\n",
    "        optimizer,\n",
    "        num_warmup_steps=WARMUP_STEPS,\n",
    "        num_training_steps=total_steps\n",
    "    )\n",
    "    \n",
    "    # Listas para almacenar métricas durante el entrenamiento\n",
    "    train_losses = []\n",
    "    train_accuracies = []\n",
    "    train_f1_scores = []\n",
    "    val_losses = []\n",
    "    val_accuracies = []\n",
    "    val_f1_scores = []\n",
    "    \n",
    "    # Medir tiempo de entrenamiento\n",
    "    start_time = time.time()\n",
    "    \n",
    "    # Entrenamiento por épocas\n",
    "    for epoch in range(EPOCHS):\n",
    "        print(f'Época {epoch+1}/{EPOCHS}')\n",
    "        \n",
    "        # Entrenar una época\n",
    "        train_loss, train_acc, train_f1, train_precision, train_recall = train_epoch(\n",
    "            model, train_dataloader, optimizer, scheduler, device, model_config['type']\n",
    "        )\n",
    "        \n",
    "        # Evaluar en el conjunto de validación\n",
    "        val_loss, val_acc, val_f1, val_precision, val_recall, _, _, _ = evaluate(\n",
    "            model, val_dataloader, device, model_config['type']\n",
    "        )\n",
    "        \n",
    "        # Guardar métricas\n",
    "        train_losses.append(train_loss)\n",
    "        train_accuracies.append(train_acc)\n",
    "        train_f1_scores.append(train_f1)\n",
    "        val_losses.append(val_loss)\n",
    "        val_accuracies.append(val_acc)\n",
    "        val_f1_scores.append(val_f1)\n",
    "        \n",
    "        # Imprimir métricas\n",
    "        print(f'Train Loss: {train_loss:.4f} | Train Acc: {train_acc:.4f} | Train F1: {train_f1:.4f}')\n",
    "        print(f'Val Loss: {val_loss:.4f} | Val Acc: {val_acc:.4f} | Val F1: {val_f1:.4f}')\n",
    "        print(f'Train Precision: {train_precision:.4f} | Train Recall: {train_recall:.4f}')\n",
    "        print(f'Val Precision: {val_precision:.4f} | Val Recall: {val_recall:.4f}')\n",
    "    \n",
    "    # Calcular tiempo de entrenamiento\n",
    "    training_time = time.time() - start_time\n",
    "    print(f'Tiempo de entrenamiento: {training_time:.2f} segundos')\n",
    "    \n",
    "    # Evaluar el modelo en el conjunto de prueba\n",
    "    test_loss, test_acc, test_f1, test_precision, test_recall, test_conf_matrix, test_preds, test_actual_labels = evaluate(\n",
    "        model, test_dataloader, device, model_config['type']\n",
    "    )\n",
    "    \n",
    "    # Imprimir métricas de evaluación\n",
    "    print('Resultados en el conjunto de prueba:')\n",
    "    print(f'Accuracy: {test_acc:.4f}')\n",
    "    print(f'F1 Score: {test_f1:.4f}')\n",
    "    print(f'Precision: {test_precision:.4f}')\n",
    "    print(f'Recall: {test_recall:.4f}')\n",
    "    print(f'Loss: {test_loss:.4f}')\n",
    "    \n",
    "    # Visualizar matriz de confusión\n",
    "    plt.figure(figsize=(8, 6))\n",
    "    sns.heatmap(test_conf_matrix, annot=True, fmt='d', cmap='Blues')\n",
    "    plt.title(f'Matriz de Confusión - {model_name}')\n",
    "    plt.xlabel('Predicción')\n",
    "    plt.ylabel('Valor Real')\n",
    "    plt.show()\n",
    "    \n",
    "    # Imprimir informe de clasificación\n",
    "    print('Informe de Clasificación:')\n",
    "    print(classification_report(test_actual_labels, test_preds, target_names=['No Tóxico', 'Tóxico']))\n",
    "    \n",
    "    # Guardar resultados para comparación\n",
    "    results[model_name] = {\n",
    "        'accuracy': test_acc,\n",
    "        'f1_score': test_f1,\n",
    "        'precision': test_precision,\n",
    "        'recall': test_recall,\n",
    "        'loss': test_loss,\n",
    "        'training_time': training_time\n",
    "    }\n",
    "    \n",
    "    return model, tokenizer"
   ]
  },
  {
   "cell_type": "code",
   "execution_count": 20,
   "id": "648b4a62",
   "metadata": {},
   "outputs": [
    {
     "name": "stdout",
     "output_type": "stream",
     "text": [
      " Entrenando y evaluando modelo: deberta\n"
     ]
    },
    {
     "name": "stderr",
     "output_type": "stream",
     "text": [
      "Some weights of DebertaV2ForSequenceClassification were not initialized from the model checkpoint at microsoft/deberta-v3-small and are newly initialized: ['classifier.bias', 'classifier.weight', 'pooler.dense.bias', 'pooler.dense.weight']\n",
      "You should probably TRAIN this model on a down-stream task to be able to use it for predictions and inference.\n"
     ]
    },
    {
     "name": "stdout",
     "output_type": "stream",
     "text": [
      "Época 1/4\n"
     ]
    },
    {
     "name": "stderr",
     "output_type": "stream",
     "text": [
      "Entrenando: 100%|██████████| 1312/1312 [02:09<00:00, 10.14it/s]\n",
      "Evaluando: 100%|██████████| 281/281 [00:06<00:00, 40.53it/s]\n"
     ]
    },
    {
     "name": "stdout",
     "output_type": "stream",
     "text": [
      "Train Loss: 0.4291 | Train Acc: 0.8021 | Train F1: 0.8232\n",
      "Val Loss: 0.3771 | Val Acc: 0.8338 | Val F1: 0.8484\n",
      "Train Precision: 0.8088 | Train Recall: 0.8380\n",
      "Val Precision: 0.8506 | Val Recall: 0.8462\n",
      "Época 2/4\n"
     ]
    },
    {
     "name": "stderr",
     "output_type": "stream",
     "text": [
      "Entrenando: 100%|██████████| 1312/1312 [02:01<00:00, 10.82it/s]\n",
      "Evaluando: 100%|██████████| 281/281 [00:06<00:00, 41.26it/s]\n"
     ]
    },
    {
     "name": "stdout",
     "output_type": "stream",
     "text": [
      "Train Loss: 0.3225 | Train Acc: 0.8618 | Train F1: 0.8758\n",
      "Val Loss: 0.3750 | Val Acc: 0.8416 | Val F1: 0.8583\n",
      "Train Precision: 0.8652 | Train Recall: 0.8866\n",
      "Val Precision: 0.8442 | Val Recall: 0.8729\n",
      "Época 3/4\n"
     ]
    },
    {
     "name": "stderr",
     "output_type": "stream",
     "text": [
      "Entrenando: 100%|██████████| 1312/1312 [02:01<00:00, 10.82it/s]\n",
      "Evaluando: 100%|██████████| 281/281 [00:06<00:00, 40.55it/s]\n"
     ]
    },
    {
     "name": "stdout",
     "output_type": "stream",
     "text": [
      "Train Loss: 0.2465 | Train Acc: 0.8979 | Train F1: 0.9080\n",
      "Val Loss: 0.4290 | Val Acc: 0.8392 | Val F1: 0.8611\n",
      "Train Precision: 0.8999 | Train Recall: 0.9162\n",
      "Val Precision: 0.8191 | Val Recall: 0.9077\n",
      "Época 4/4\n"
     ]
    },
    {
     "name": "stderr",
     "output_type": "stream",
     "text": [
      "Entrenando: 100%|██████████| 1312/1312 [02:01<00:00, 10.82it/s]\n",
      "Evaluando: 100%|██████████| 281/281 [00:06<00:00, 40.97it/s]\n"
     ]
    },
    {
     "name": "stdout",
     "output_type": "stream",
     "text": [
      "Train Loss: 0.1758 | Train Acc: 0.9326 | Train F1: 0.9392\n",
      "Val Loss: 0.4742 | Val Acc: 0.8396 | Val F1: 0.8567\n",
      "Train Precision: 0.9315 | Train Recall: 0.9470\n",
      "Val Precision: 0.8412 | Val Recall: 0.8729\n",
      "Tiempo de entrenamiento: 520.92 segundos\n"
     ]
    },
    {
     "name": "stderr",
     "output_type": "stream",
     "text": [
      "Evaluando: 100%|██████████| 281/281 [00:06<00:00, 40.75it/s]\n"
     ]
    },
    {
     "name": "stdout",
     "output_type": "stream",
     "text": [
      "Resultados en el conjunto de prueba:\n",
      "Accuracy: 0.8365\n",
      "F1 Score: 0.8543\n",
      "Precision: 0.8372\n",
      "Recall: 0.8721\n",
      "Loss: 0.4717\n"
     ]
    },
    {
     "data": {
      "image/png": "[encoded data removed]",
      "text/plain": [
       "<Figure size 800x600 with 2 Axes>"
      ]
     },
     "metadata": {},
     "output_type": "display_data"
    },
    {
     "name": "stdout",
     "output_type": "stream",
     "text": [
      "Informe de Clasificación:\n",
      "              precision    recall  f1-score   support\n",
      "\n",
      "   No Tóxico       0.84      0.79      0.81      2026\n",
      "      Tóxico       0.84      0.87      0.85      2470\n",
      "\n",
      "    accuracy                           0.84      4496\n",
      "   macro avg       0.84      0.83      0.83      4496\n",
      "weighted avg       0.84      0.84      0.84      4496\n",
      "\n",
      " Entrenando y evaluando modelo: bert\n"
     ]
    },
    {
     "name": "stderr",
     "output_type": "stream",
     "text": [
      "Some weights of BertForSequenceClassification were not initialized from the model checkpoint at bert-base-uncased and are newly initialized: ['classifier.bias', 'classifier.weight']\n",
      "You should probably TRAIN this model on a down-stream task to be able to use it for predictions and inference.\n"
     ]
    },
    {
     "name": "stdout",
     "output_type": "stream",
     "text": [
      "Época 1/4\n"
     ]
    },
    {
     "name": "stderr",
     "output_type": "stream",
     "text": [
      "Entrenando: 100%|██████████| 1312/1312 [02:24<00:00,  9.09it/s]\n",
      "Evaluando: 100%|██████████| 281/281 [00:09<00:00, 28.92it/s]\n"
     ]
    },
    {
     "name": "stdout",
     "output_type": "stream",
     "text": [
      "Train Loss: 0.4270 | Train Acc: 0.8061 | Train F1: 0.8267\n",
      "Val Loss: 0.3706 | Val Acc: 0.8360 | Val F1: 0.8483\n",
      "Train Precision: 0.8122 | Train Recall: 0.8418\n",
      "Val Precision: 0.8630 | Val Recall: 0.8340\n",
      "Época 2/4\n"
     ]
    },
    {
     "name": "stderr",
     "output_type": "stream",
     "text": [
      "Entrenando: 100%|██████████| 1312/1312 [02:22<00:00,  9.22it/s]\n",
      "Evaluando: 100%|██████████| 281/281 [00:09<00:00, 28.98it/s]\n"
     ]
    },
    {
     "name": "stdout",
     "output_type": "stream",
     "text": [
      "Train Loss: 0.2861 | Train Acc: 0.8801 | Train F1: 0.8919\n",
      "Val Loss: 0.3861 | Val Acc: 0.8392 | Val F1: 0.8530\n",
      "Train Precision: 0.8838 | Train Recall: 0.9002\n",
      "Val Precision: 0.8567 | Val Recall: 0.8494\n",
      "Época 3/4\n"
     ]
    },
    {
     "name": "stderr",
     "output_type": "stream",
     "text": [
      "Entrenando: 100%|██████████| 1312/1312 [02:23<00:00,  9.16it/s]\n",
      "Evaluando: 100%|██████████| 281/281 [00:09<00:00, 28.83it/s]\n"
     ]
    },
    {
     "name": "stdout",
     "output_type": "stream",
     "text": [
      "Train Loss: 0.1474 | Train Acc: 0.9439 | Train F1: 0.9492\n",
      "Val Loss: 0.4987 | Val Acc: 0.8298 | Val F1: 0.8433\n",
      "Train Precision: 0.9447 | Train Recall: 0.9538\n",
      "Val Precision: 0.8536 | Val Recall: 0.8332\n",
      "Época 4/4\n"
     ]
    },
    {
     "name": "stderr",
     "output_type": "stream",
     "text": [
      "Entrenando: 100%|██████████| 1312/1312 [02:22<00:00,  9.19it/s]\n",
      "Evaluando: 100%|██████████| 281/281 [00:09<00:00, 28.87it/s]\n"
     ]
    },
    {
     "name": "stdout",
     "output_type": "stream",
     "text": [
      "Train Loss: 0.0685 | Train Acc: 0.9752 | Train F1: 0.9775\n",
      "Val Loss: 0.6122 | Val Acc: 0.8352 | Val F1: 0.8515\n",
      "Train Precision: 0.9759 | Train Recall: 0.9791\n",
      "Val Precision: 0.8429 | Val Recall: 0.8603\n",
      "Tiempo de entrenamiento: 611.76 segundos\n"
     ]
    },
    {
     "name": "stderr",
     "output_type": "stream",
     "text": [
      "Evaluando: 100%|██████████| 281/281 [00:09<00:00, 29.23it/s]"
     ]
    },
    {
     "name": "stdout",
     "output_type": "stream",
     "text": [
      "Resultados en el conjunto de prueba:\n",
      "Accuracy: 0.8265\n",
      "F1 Score: 0.8449\n",
      "Precision: 0.8303\n",
      "Recall: 0.8599\n",
      "Loss: 0.6253\n"
     ]
    },
    {
     "name": "stderr",
     "output_type": "stream",
     "text": [
      "\n"
     ]
    },
    {
     "data": {
      "image/png": "[encoded data removed]",
      "text/plain": [
       "<Figure size 800x600 with 2 Axes>"
      ]
     },
     "metadata": {},
     "output_type": "display_data"
    },
    {
     "name": "stdout",
     "output_type": "stream",
     "text": [
      "Informe de Clasificación:\n",
      "              precision    recall  f1-score   support\n",
      "\n",
      "   No Tóxico       0.82      0.79      0.80      2026\n",
      "      Tóxico       0.83      0.86      0.84      2470\n",
      "\n",
      "    accuracy                           0.83      4496\n",
      "   macro avg       0.83      0.82      0.82      4496\n",
      "weighted avg       0.83      0.83      0.83      4496\n",
      "\n",
      " Entrenando y evaluando modelo: roberta\n"
     ]
    },
    {
     "name": "stderr",
     "output_type": "stream",
     "text": [
      "Some weights of RobertaForSequenceClassification were not initialized from the model checkpoint at roberta-base and are newly initialized: ['classifier.dense.bias', 'classifier.dense.weight', 'classifier.out_proj.bias', 'classifier.out_proj.weight']\n",
      "You should probably TRAIN this model on a down-stream task to be able to use it for predictions and inference.\n"
     ]
    },
    {
     "name": "stdout",
     "output_type": "stream",
     "text": [
      "Época 1/4\n"
     ]
    },
    {
     "name": "stderr",
     "output_type": "stream",
     "text": [
      "Entrenando: 100%|██████████| 1312/1312 [02:23<00:00,  9.15it/s]\n",
      "Evaluando: 100%|██████████| 281/281 [00:08<00:00, 31.52it/s]\n"
     ]
    },
    {
     "name": "stdout",
     "output_type": "stream",
     "text": [
      "Train Loss: 0.4352 | Train Acc: 0.8021 | Train F1: 0.8220\n",
      "Val Loss: 0.3821 | Val Acc: 0.8336 | Val F1: 0.8560\n",
      "Train Precision: 0.8128 | Train Recall: 0.8314\n",
      "Val Precision: 0.8161 | Val Recall: 0.9000\n",
      "Época 2/4\n"
     ]
    },
    {
     "name": "stderr",
     "output_type": "stream",
     "text": [
      "Entrenando: 100%|██████████| 1312/1312 [02:23<00:00,  9.13it/s]\n",
      "Evaluando: 100%|██████████| 281/281 [00:08<00:00, 31.55it/s]\n"
     ]
    },
    {
     "name": "stdout",
     "output_type": "stream",
     "text": [
      "Train Loss: 0.3292 | Train Acc: 0.8571 | Train F1: 0.8713\n",
      "Val Loss: 0.3915 | Val Acc: 0.8367 | Val F1: 0.8525\n",
      "Train Precision: 0.8627 | Train Recall: 0.8800\n",
      "Val Precision: 0.8464 | Val Recall: 0.8587\n",
      "Época 3/4\n"
     ]
    },
    {
     "name": "stderr",
     "output_type": "stream",
     "text": [
      "Entrenando: 100%|██████████| 1312/1312 [02:24<00:00,  9.11it/s]\n",
      "Evaluando: 100%|██████████| 281/281 [00:08<00:00, 31.41it/s]\n"
     ]
    },
    {
     "name": "stdout",
     "output_type": "stream",
     "text": [
      "Train Loss: 0.2406 | Train Acc: 0.9013 | Train F1: 0.9106\n",
      "Val Loss: 0.4095 | Val Acc: 0.8407 | Val F1: 0.8585\n",
      "Train Precision: 0.9062 | Train Recall: 0.9151\n",
      "Val Precision: 0.8386 | Val Recall: 0.8794\n",
      "Época 4/4\n"
     ]
    },
    {
     "name": "stderr",
     "output_type": "stream",
     "text": [
      "Entrenando: 100%|██████████| 1312/1312 [02:24<00:00,  9.11it/s]\n",
      "Evaluando: 100%|██████████| 281/281 [00:08<00:00, 31.38it/s]\n"
     ]
    },
    {
     "name": "stdout",
     "output_type": "stream",
     "text": [
      "Train Loss: 0.1596 | Train Acc: 0.9391 | Train F1: 0.9449\n",
      "Val Loss: 0.4915 | Val Acc: 0.8400 | Val F1: 0.8571\n",
      "Train Precision: 0.9396 | Train Recall: 0.9502\n",
      "Val Precision: 0.8419 | Val Recall: 0.8729\n",
      "Tiempo de entrenamiento: 611.19 segundos\n"
     ]
    },
    {
     "name": "stderr",
     "output_type": "stream",
     "text": [
      "Evaluando: 100%|██████████| 281/281 [00:09<00:00, 30.69it/s]\n"
     ]
    },
    {
     "name": "stdout",
     "output_type": "stream",
     "text": [
      "Resultados en el conjunto de prueba:\n",
      "Accuracy: 0.8330\n",
      "F1 Score: 0.8502\n",
      "Precision: 0.8377\n",
      "Recall: 0.8632\n",
      "Loss: 0.4963\n"
     ]
    },
    {
     "data": {
      "image/png": "[encoded data removed]",
      "text/plain": [
       "<Figure size 800x600 with 2 Axes>"
      ]
     },
     "metadata": {},
     "output_type": "display_data"
    },
    {
     "name": "stdout",
     "output_type": "stream",
     "text": [
      "Informe de Clasificación:\n",
      "              precision    recall  f1-score   support\n",
      "\n",
      "   No Tóxico       0.83      0.80      0.81      2026\n",
      "      Tóxico       0.84      0.86      0.85      2470\n",
      "\n",
      "    accuracy                           0.83      4496\n",
      "   macro avg       0.83      0.83      0.83      4496\n",
      "weighted avg       0.83      0.83      0.83      4496\n",
      "\n",
      " Entrenando y evaluando modelo: distilbert\n"
     ]
    },
    {
     "name": "stderr",
     "output_type": "stream",
     "text": [
      "Some weights of DistilBertForSequenceClassification were not initialized from the model checkpoint at distilbert-base-uncased and are newly initialized: ['classifier.bias', 'classifier.weight', 'pre_classifier.bias', 'pre_classifier.weight']\n",
      "You should probably TRAIN this model on a down-stream task to be able to use it for predictions and inference.\n"
     ]
    },
    {
     "name": "stdout",
     "output_type": "stream",
     "text": [
      "Época 1/4\n"
     ]
    },
    {
     "name": "stderr",
     "output_type": "stream",
     "text": [
      "Entrenando: 100%|██████████| 1312/1312 [01:19<00:00, 16.61it/s]\n",
      "Evaluando: 100%|██████████| 281/281 [00:05<00:00, 48.30it/s]\n"
     ]
    },
    {
     "name": "stdout",
     "output_type": "stream",
     "text": [
      "Train Loss: 0.4315 | Train Acc: 0.8013 | Train F1: 0.8220\n",
      "Val Loss: 0.3829 | Val Acc: 0.8296 | Val F1: 0.8536\n",
      "Train Precision: 0.8097 | Train Recall: 0.8347\n",
      "Val Precision: 0.8085 | Val Recall: 0.9040\n",
      "Época 2/4\n"
     ]
    },
    {
     "name": "stderr",
     "output_type": "stream",
     "text": [
      "Entrenando: 100%|██████████| 1312/1312 [01:18<00:00, 16.70it/s]\n",
      "Evaluando: 100%|██████████| 281/281 [00:05<00:00, 48.65it/s]\n"
     ]
    },
    {
     "name": "stdout",
     "output_type": "stream",
     "text": [
      "Train Loss: 0.2976 | Train Acc: 0.8762 | Train F1: 0.8881\n",
      "Val Loss: 0.3871 | Val Acc: 0.8383 | Val F1: 0.8561\n",
      "Train Precision: 0.8822 | Train Recall: 0.8941\n",
      "Val Precision: 0.8377 | Val Recall: 0.8753\n",
      "Época 3/4\n"
     ]
    },
    {
     "name": "stderr",
     "output_type": "stream",
     "text": [
      "Entrenando: 100%|██████████| 1312/1312 [01:18<00:00, 16.66it/s]\n",
      "Evaluando: 100%|██████████| 281/281 [00:05<00:00, 48.25it/s]\n"
     ]
    },
    {
     "name": "stdout",
     "output_type": "stream",
     "text": [
      "Train Loss: 0.1729 | Train Acc: 0.9352 | Train F1: 0.9412\n",
      "Val Loss: 0.4726 | Val Acc: 0.8365 | Val F1: 0.8512\n",
      "Train Precision: 0.9390 | Train Recall: 0.9434\n",
      "Val Precision: 0.8514 | Val Recall: 0.8510\n",
      "Época 4/4\n"
     ]
    },
    {
     "name": "stderr",
     "output_type": "stream",
     "text": [
      "Entrenando: 100%|██████████| 1312/1312 [01:18<00:00, 16.77it/s]\n",
      "Evaluando: 100%|██████████| 281/281 [00:05<00:00, 48.70it/s]\n"
     ]
    },
    {
     "name": "stdout",
     "output_type": "stream",
     "text": [
      "Train Loss: 0.0921 | Train Acc: 0.9677 | Train F1: 0.9707\n",
      "Val Loss: 0.5817 | Val Acc: 0.8296 | Val F1: 0.8452\n",
      "Train Precision: 0.9698 | Train Recall: 0.9715\n",
      "Val Precision: 0.8438 | Val Recall: 0.8466\n",
      "Tiempo de entrenamiento: 337.95 segundos\n"
     ]
    },
    {
     "name": "stderr",
     "output_type": "stream",
     "text": [
      "Evaluando: 100%|██████████| 281/281 [00:06<00:00, 46.58it/s]\n"
     ]
    },
    {
     "name": "stdout",
     "output_type": "stream",
     "text": [
      "Resultados en el conjunto de prueba:\n",
      "Accuracy: 0.8225\n",
      "F1 Score: 0.8399\n",
      "Precision: 0.8325\n",
      "Recall: 0.8474\n",
      "Loss: 0.5689\n"
     ]
    },
    {
     "data": {
      "image/png": "[encoded data removed]",
      "text/plain": [
       "<Figure size 800x600 with 2 Axes>"
      ]
     },
     "metadata": {},
     "output_type": "display_data"
    },
    {
     "name": "stdout",
     "output_type": "stream",
     "text": [
      "Informe de Clasificación:\n",
      "              precision    recall  f1-score   support\n",
      "\n",
      "   No Tóxico       0.81      0.79      0.80      2026\n",
      "      Tóxico       0.83      0.85      0.84      2470\n",
      "\n",
      "    accuracy                           0.82      4496\n",
      "   macro avg       0.82      0.82      0.82      4496\n",
      "weighted avg       0.82      0.82      0.82      4496\n",
      "\n"
     ]
    }
   ],
   "source": [
    "# Entrenar y evaluar cada modelo\n",
    "for model_name, model_config in models_config.items():\n",
    "    model, tokenizer = train_and_evaluate_model(model_name, model_config)"
   ]
  },
  {
   "cell_type": "markdown",
   "metadata": {},
   "source": [
    "## 7. Comparación de Resultados"
   ]
  },
  {
   "cell_type": "code",
   "execution_count": 21,
   "metadata": {},
   "outputs": [
    {
     "data": {
      "text/html": [
       "<div>\n",
       "<style scoped>\n",
       "    .dataframe tbody tr th:only-of-type {\n",
       "        vertical-align: middle;\n",
       "    }\n",
       "\n",
       "    .dataframe tbody tr th {\n",
       "        vertical-align: top;\n",
       "    }\n",
       "\n",
       "    .dataframe thead th {\n",
       "        text-align: right;\n",
       "    }\n",
       "</style>\n",
       "<table border=\"1\" class=\"dataframe\">\n",
       "  <thead>\n",
       "    <tr style=\"text-align: right;\">\n",
       "      <th></th>\n",
       "      <th>Modelo</th>\n",
       "      <th>accuracy</th>\n",
       "      <th>f1_score</th>\n",
       "      <th>precision</th>\n",
       "      <th>recall</th>\n",
       "      <th>loss</th>\n",
       "      <th>training_time</th>\n",
       "    </tr>\n",
       "  </thead>\n",
       "  <tbody>\n",
       "    <tr>\n",
       "      <th>0</th>\n",
       "      <td>deberta</td>\n",
       "      <td>0.836521</td>\n",
       "      <td>0.854253</td>\n",
       "      <td>0.837155</td>\n",
       "      <td>0.872065</td>\n",
       "      <td>0.471726</td>\n",
       "      <td>520.915164</td>\n",
       "    </tr>\n",
       "    <tr>\n",
       "      <th>1</th>\n",
       "      <td>bert</td>\n",
       "      <td>0.826512</td>\n",
       "      <td>0.844869</td>\n",
       "      <td>0.830336</td>\n",
       "      <td>0.859919</td>\n",
       "      <td>0.625263</td>\n",
       "      <td>611.762770</td>\n",
       "    </tr>\n",
       "    <tr>\n",
       "      <th>2</th>\n",
       "      <td>roberta</td>\n",
       "      <td>0.832963</td>\n",
       "      <td>0.850249</td>\n",
       "      <td>0.837721</td>\n",
       "      <td>0.863158</td>\n",
       "      <td>0.496303</td>\n",
       "      <td>611.194413</td>\n",
       "    </tr>\n",
       "    <tr>\n",
       "      <th>3</th>\n",
       "      <td>distilbert</td>\n",
       "      <td>0.822509</td>\n",
       "      <td>0.839888</td>\n",
       "      <td>0.832538</td>\n",
       "      <td>0.847368</td>\n",
       "      <td>0.568883</td>\n",
       "      <td>337.948790</td>\n",
       "    </tr>\n",
       "  </tbody>\n",
       "</table>\n",
       "</div>"
      ],
      "text/plain": [
       "       Modelo  accuracy  f1_score  precision    recall      loss  \\\n",
       "0     deberta  0.836521  0.854253   0.837155  0.872065  0.471726   \n",
       "1        bert  0.826512  0.844869   0.830336  0.859919  0.625263   \n",
       "2     roberta  0.832963  0.850249   0.837721  0.863158  0.496303   \n",
       "3  distilbert  0.822509  0.839888   0.832538  0.847368  0.568883   \n",
       "\n",
       "   training_time  \n",
       "0     520.915164  \n",
       "1     611.762770  \n",
       "2     611.194413  \n",
       "3     337.948790  "
      ]
     },
     "execution_count": 21,
     "metadata": {},
     "output_type": "execute_result"
    }
   ],
   "source": [
    "# Crear DataFrame con los resultados\n",
    "results_df = pd.DataFrame(results).T\n",
    "results_df = results_df.reset_index().rename(columns={'index': 'Modelo'})\n",
    "results_df"
   ]
  },
  {
   "cell_type": "code",
   "execution_count": 23,
   "metadata": {},
   "outputs": [
    {
     "data": {
      "image/png": "[encoded data removed]",
      "text/plain": [
       "<Figure size 1200x800 with 4 Axes>"
      ]
     },
     "metadata": {},
     "output_type": "display_data"
    }
   ],
   "source": [
    "# Visualizar comparación de métricas\n",
    "metrics = ['accuracy', 'f1_score', 'precision', 'recall']\n",
    "\n",
    "plt.figure(figsize=(12, 8))\n",
    "\n",
    "for i, metric in enumerate(metrics):\n",
    "    plt.subplot(2, 2, i+1)\n",
    "    sns.barplot(x='Modelo', y=metric, data=results_df)\n",
    "    plt.title(f\"Comparación de {metric.replace('_', ' ').title()}\")\n",
    "    plt.ylim(0.7, 1.0)  # Ajustar para mejor visualización\n",
    "    plt.xticks(rotation=45)\n",
    "    \n",
    "    # Añadir valores en las barras\n",
    "    for j, v in enumerate(results_df[metric]):\n",
    "        plt.text(j, v + 0.01, f'{v:.4f}', ha='center')\n",
    "\n",
    "plt.tight_layout()\n",
    "plt.show()"
   ]
  },
  {
   "cell_type": "code",
   "execution_count": 24,
   "metadata": {},
   "outputs": [
    {
     "data": {
      "image/png": "[encoded data removed]",
      "text/plain": [
       "<Figure size 1000x600 with 1 Axes>"
      ]
     },
     "metadata": {},
     "output_type": "display_data"
    }
   ],
   "source": [
    "# Visualizar tiempo de entrenamiento\n",
    "plt.figure(figsize=(10, 6))\n",
    "sns.barplot(x='Modelo', y='training_time', data=results_df)\n",
    "plt.title('Comparación de Tiempo de Entrenamiento')\n",
    "plt.ylabel('Tiempo (segundos)')\n",
    "plt.xticks(rotation=45)\n",
    "\n",
    "# Añadir valores en las barras\n",
    "for i, v in enumerate(results_df['training_time']):\n",
    "    plt.text(i, v + 10, f'{v:.2f}s', ha='center')\n",
    "\n",
    "plt.tight_layout()\n",
    "plt.show()"
   ]
  },
  {
   "cell_type": "markdown",
   "metadata": {},
   "source": [
    "## 8. Análisis y Conclusiones"
   ]
  },
  {
   "cell_type": "markdown",
   "metadata": {},
   "source": [
    "### Análisis Comparativo\n",
    "\n",
    "En este notebook, hemos implementado y comparado cuatro modelos Transformer para la tarea de detección de comentarios tóxicos:\n",
    "\n",
    "1. **BERT (Bidirectional Encoder Representations from Transformers)**:\n",
    "   - Modelo base que utiliza codificación bidireccional para entender el contexto en ambas direcciones.\n",
    "   - Arquitectura completa con 12 capas de transformers y 110M de parámetros.\n",
    "\n",
    "2. **RoBERTa (Robustly Optimized BERT Pretraining Approach)**:\n",
    "   - Versión optimizada de BERT con entrenamiento más robusto.\n",
    "   - Elimina la tarea de predicción de la siguiente oración (NSP) y utiliza secuencias más largas durante el entrenamiento.\n",
    "   - Usa un tamaño de lote mayor y más datos de entrenamiento.\n",
    "\n",
    "3. **DistilBERT**:\n",
    "   - Versión destilada (comprimida) de BERT que mantiene el 97% del rendimiento pero con un 40% menos de parámetros.\n",
    "   - Más rápido y ligero, ideal para dispositivos con recursos limitados.\n",
    "\n",
    "4. **XLNet**:\n",
    "   - Combina lo mejor de la modelación autorregresiva y la bidireccional.\n",
    "   - Utiliza permutación para considerar todas las posibles ordenaciones de los tokens.\n",
    "   - Supera algunas limitaciones de BERT al no depender de tokens enmascarados durante el preentrenamiento.\n",
    "\n",
    "### Conclusiones\n",
    "\n",
    "Basándonos en los resultados obtenidos, podemos extraer las siguientes conclusiones:\n",
    "\n",
    "1. **Rendimiento**:\n",
    "   - [Aquí se completará con los resultados reales después de ejecutar el notebook]\n",
    "\n",
    "2. **Eficiencia**:\n",
    "   - DistilBERT ofrece el mejor equilibrio entre rendimiento y eficiencia, siendo significativamente más rápido que los otros modelos.\n",
    "   - XLNet tiende a ser el más lento debido a su compleja arquitectura de permutación.\n",
    "\n",
    "3. **Casos de Uso**:\n",
    "   - Para aplicaciones en tiempo real o dispositivos con recursos limitados: DistilBERT\n",
    "   - Para máximo rendimiento sin importar los recursos: RoBERTa o XLNet\n",
    "   - Para un buen equilibrio entre rendimiento y recursos: BERT\n",
    "\n",
    "4. **Mejoras Futuras**:\n",
    "   - Explorar modelos más recientes como ALBERT, DeBERTa o T5.\n",
    "   - Implementar técnicas de aprendizaje por transferencia más avanzadas.\n",
    "   - Experimentar con enfoques de ensemble combinando las fortalezas de diferentes modelos.\n",
    "   - Ampliar a detección multiclase para identificar diferentes tipos de toxicidad.\n",
    "\n",
    "Este análisis comparativo proporciona una base sólida para seleccionar el modelo Transformer más adecuado según los requisitos específicos de la aplicación de detección de comentarios tóxicos."
   ]
  }
 ],
 "metadata": {
  "kernelspec": {
   "display_name": ".venv",
   "language": "python",
   "name": "python3"
  },
  "language_info": {
   "codemirror_mode": {
    "name": "ipython",
    "version": 3
   },
   "file_extension": ".py",
   "mimetype": "text/x-python",
   "name": "python",
   "nbconvert_exporter": "python",
   "pygments_lexer": "ipython3",
   "version": "3.13.3"
  }
 },
 "nbformat": 4,
 "nbformat_minor": 5
}
