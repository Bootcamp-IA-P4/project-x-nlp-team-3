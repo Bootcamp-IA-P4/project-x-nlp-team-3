{
 "cells": [
  {
   "cell_type": "code",
   "execution_count": 1,
   "id": "2a5b9858",
   "metadata": {},
   "outputs": [],
   "source": [
    "import gzip\n",
    "import requests\n",
    "from io import BytesIO, StringIO\n",
    "import pandas as pd\n",
    "import numpy as np\n",
    "import matplotlib.pyplot as plt\n",
    "import seaborn as sns\n",
    "import mlflow\n",
    "import mlflow.keras\n",
    "import time\n",
    "import os\n",
    "import re\n",
    "import string\n",
    "import emoji\n",
    "import nltk\n",
    "from nltk.tokenize import word_tokenize\n",
    "from nltk.stem import WordNetLemmatizer\n",
    "from nltk.corpus import stopwords\n",
    "from sklearn.model_selection import train_test_split\n",
    "from sklearn.feature_extraction.text import CountVectorizer\n",
    "from sklearn.preprocessing import LabelEncoder\n",
    "from sklearn.metrics import classification_report, confusion_matrix, roc_curve, auc\n",
    "from tensorflow.keras.models import Sequential\n",
    "from tensorflow.keras.layers import Dense, Dropout\n",
    "from tensorflow.keras.callbacks import EarlyStopping"
   ]
  },
  {
   "cell_type": "code",
   "execution_count": 2,
   "id": "b48f6a09",
   "metadata": {},
   "outputs": [
    {
     "name": "stdout",
     "output_type": "stream",
     "text": [
      "🔗 Downloading data from GitHub...\n",
      "📊 Reading CSV file...\n",
      "✅ Data downloaded successfully!\n"
     ]
    }
   ],
   "source": [
    "GITHUB_CLEAN_URL = \"https://raw.githubusercontent.com/Bootcamp-IA-P4/project-x-nlp-team-3/feature/models/Data/fusion30.csv\"\n",
    "\n",
    "def load_comments_data_from_github(url):\n",
    "    \"\"\"\n",
    "    Downloading and processing comments data from GitHub repository.\n",
    "    \"\"\"\n",
    "    print(\"🔗 Downloading data from GitHub...\")\n",
    "\n",
    "    try:\n",
    "        response = requests.get(url)\n",
    "        response.raise_for_status()\n",
    "\n",
    "        print(\"📊 Reading CSV file...\")\n",
    "\n",
    "        df = pd.read_csv(StringIO(response.text), sep=';')\n",
    "\n",
    "        print(\"✅ Data downloaded successfully!\")\n",
    "        return df\n",
    "\n",
    "    except Exception as e:\n",
    "        print(f\"❌ Error while downloading data: {e}\")\n",
    "        return None\n",
    "\n",
    "# Creating dataframe from GitHub URL\n",
    "df = load_comments_data_from_github(GITHUB_CLEAN_URL)"
   ]
  },
  {
   "cell_type": "code",
   "execution_count": 3,
   "id": "ec6358a8",
   "metadata": {},
   "outputs": [
    {
     "name": "stdout",
     "output_type": "stream",
     "text": [
      "Index(['text', 'General_judgement', 'Aligned_with_label', 'Violence (Low)',\n",
      "       'Violence_judgement', 'Hate (Low)', 'Hate_judgement', 'Sexual (Low)',\n",
      "       'Sexual_judgement', 'Self-harm (Low)', 'Self-harm_judgement', 'label'],\n",
      "      dtype='object')\n"
     ]
    }
   ],
   "source": [
    "print(df.columns)"
   ]
  },
  {
   "cell_type": "markdown",
   "id": "e434ddf1",
   "metadata": {},
   "source": [
    "''' Inserccion y limpeza de datos '''"
   ]
  },
  {
   "cell_type": "code",
   "execution_count": 4,
   "id": "cd7d417c",
   "metadata": {},
   "outputs": [],
   "source": [
    "def clean_text(text):\n",
    "    '''\n",
    "    Función para realizar una limpieza avanzada del texto:\n",
    "    - Elimina URLs\n",
    "    - Convierte emojis a texto\n",
    "    - Elimina menciones (@usuario)\n",
    "    - Elimina hashtags (#tema)\n",
    "    - Elimina puntuación irrelevante\n",
    "    - Normaliza espacios\n",
    "    '''\n",
    "    if not isinstance(text, str):\n",
    "        return ''\n",
    "    \n",
    "    # Convertir a minúsculas\n",
    "    text = text.lower()\n",
    "    \n",
    "    # Eliminar URLs\n",
    "    text = re.sub(r'https?://\\S+|www\\.\\S+', ' ', text)\n",
    " \n",
    "    # Convertir emojis a texto\n",
    "    text = emoji.demojize(text)\n",
    "    \n",
    "    # Eliminar menciones (@usuario)\n",
    "    text = re.sub(r'@\\w+', ' ', text)\n",
    "    \n",
    "    # Eliminar hashtags (#tema) pero mantener el texto del hashtag\n",
    "    text = re.sub(r'#(\\w+)', r'\\1', text)\n",
    "    \n",
    "    # Eliminar caracteres repetidos (más de 2 veces)\n",
    "    text = re.sub(r'(\\w)\\1{2,}', r'\\1\\1', text)\n",
    "    \n",
    "    # Eliminar puntuación irrelevante pero mantener algunos signos importantes\n",
    "    # Mantenemos '?' y '!' ya que pueden indicar tono emocional\n",
    "    punct_to_remove = string.punctuation.replace('?', '').replace('!', '')\n",
    "    text = ''.join([char if char not in punct_to_remove else ' ' for char in text])\n",
    "    \n",
    "    # Normalizar espacios múltiples\n",
    "    text = re.sub(r'\\s+', ' ', text).strip()\n",
    "    \n",
    "    return text"
   ]
  },
  {
   "cell_type": "code",
   "execution_count": 5,
   "id": "7b7da08e",
   "metadata": {},
   "outputs": [],
   "source": [
    "def lemmatize_text(text):\n",
    "    try:\n",
    "        if not isinstance(text, str) or text == '':\n",
    "            return ''\n",
    "        tokens = word_tokenize(text)\n",
    "        lemmatizer = WordNetLemmatizer()\n",
    "        stop_words = set(stopwords.words('english'))\n",
    "        lemmatized_tokens = [\n",
    "            lemmatizer.lemmatize(token.lower())\n",
    "            for token in tokens if token.lower() not in stop_words\n",
    "        ]\n",
    "        return ' '.join(lemmatized_tokens)\n",
    "    except LookupError as e:\n",
    "        print(\"⚠️ Error NLTK:\", e)\n",
    "        raise"
   ]
  },
  {
   "cell_type": "code",
   "execution_count": 6,
   "id": "68f533ea",
   "metadata": {},
   "outputs": [
    {
     "name": "stdout",
     "output_type": "stream",
     "text": [
      "Rutas NLTK activas: ['C:\\\\Users\\\\Usuario\\\\nltk_data']\n"
     ]
    }
   ],
   "source": [
    "# Ruta local\n",
    "nltk_data_path = os.path.join(os.path.expanduser('~'), 'nltk_data')\n",
    "nltk.data.path.clear()  # ← Borra rutas previas\n",
    "nltk.data.path.append(nltk_data_path)\n",
    "\n",
    "# Debug: imprime para confirmar\n",
    "print(\"Rutas NLTK activas:\", nltk.data.path)"
   ]
  },
  {
   "cell_type": "code",
   "execution_count": 7,
   "id": "94284c1e",
   "metadata": {},
   "outputs": [
    {
     "name": "stderr",
     "output_type": "stream",
     "text": [
      "[nltk_data] Downloading package wordnet to\n",
      "[nltk_data]     C:\\Users\\Usuario\\nltk_data...\n",
      "[nltk_data]   Package wordnet is already up-to-date!\n",
      "[nltk_data] Downloading package omw-1.4 to\n",
      "[nltk_data]     C:\\Users\\Usuario\\nltk_data...\n",
      "[nltk_data]   Package omw-1.4 is already up-to-date!\n",
      "[nltk_data] Downloading package punkt_tab to\n",
      "[nltk_data]     C:\\Users\\Usuario\\nltk_data...\n",
      "[nltk_data]   Package punkt_tab is already up-to-date!\n",
      "[nltk_data] Downloading package punkt to C:\\Users\\Usuario/nltk_data...\n",
      "[nltk_data]   Package punkt is already up-to-date!\n",
      "[nltk_data] Downloading package wordnet to\n",
      "[nltk_data]     C:\\Users\\Usuario/nltk_data...\n",
      "[nltk_data]   Package wordnet is already up-to-date!\n",
      "[nltk_data] Downloading package stopwords to\n",
      "[nltk_data]     C:\\Users\\Usuario/nltk_data...\n",
      "[nltk_data]   Package stopwords is already up-to-date!\n",
      "[nltk_data] Downloading package omw-1.4 to\n",
      "[nltk_data]     C:\\Users\\Usuario/nltk_data...\n",
      "[nltk_data]   Package omw-1.4 is already up-to-date!\n"
     ]
    },
    {
     "data": {
      "text/plain": [
       "True"
      ]
     },
     "execution_count": 7,
     "metadata": {},
     "output_type": "execute_result"
    }
   ],
   "source": [
    "nltk.download('wordnet', download_dir=nltk_data_path)\n",
    "nltk.download('omw-1.4', download_dir=nltk_data_path)\n",
    "nltk.download('punkt_tab', download_dir=nltk_data_path)\n",
    "nltk.download('punkt')\n",
    "nltk.download('wordnet')\n",
    "nltk.download('stopwords')\n",
    "nltk.download('omw-1.4')"
   ]
  },
  {
   "cell_type": "code",
   "execution_count": 8,
   "id": "f251935e",
   "metadata": {},
   "outputs": [
    {
     "name": "stdout",
     "output_type": "stream",
     "text": [
      "Aplicando preprocesamiento avanzado...\n",
      " Ejemplo 1: \n",
      "Original: \"Cry me a river, why don't you.\n",
      "Drinking, drugs, dressing like a ho.  Bad recipe for disaster!\"\n",
      "Limpiado: cry me a river why don t you drinking drugs dressing like a ho bad recipe for disaster!\n",
      "Lematizado: cry river drinking drug dressing like ho bad recipe disaster !\n",
      "--------------------------------------------------------------------------------\n",
      " Ejemplo 2: \n",
      "Original: \"That's right. They are not normal. And I am starting from the premise that they are ABNORMAL. Proceed wth the typical racist, bigot, sexist rubbish.\n",
      "Thanks!\"\n",
      "Limpiado: that s right they are not normal and i am starting from the premise that they are abnormal proceed wth the typical racist bigot sexist rubbish thanks!\n",
      "Lematizado: right normal starting premise abnormal proceed wth typical racist bigot sexist rubbish thanks !\n",
      "--------------------------------------------------------------------------------\n",
      " Ejemplo 3: \n",
      "Original: \"Disgusting.\"\n",
      "Limpiado: disgusting\n",
      "Lematizado: disgusting\n",
      "--------------------------------------------------------------------------------\n",
      " Ejemplo 4: \n",
      "Original: \"gtfo\"\n",
      "Limpiado: gtfo\n",
      "Lematizado: gtfo\n",
      "--------------------------------------------------------------------------------\n",
      " Ejemplo 5: \n",
      "Original: \"All you ever talk about is trolling, you and your Troll president can burn for all I care\"\n",
      "Limpiado: all you ever talk about is trolling you and your troll president can burn for all i care\n",
      "Lematizado: ever talk trolling troll president burn care\n",
      "--------------------------------------------------------------------------------\n"
     ]
    }
   ],
   "source": [
    "# Aplicar limpieza y lematización al texto\n",
    "print('Aplicando preprocesamiento avanzado...')\n",
    "df['cleaned_text'] = df['text'].apply(clean_text)\n",
    "df['lemmatized_text'] = df['cleaned_text'].apply(lemmatize_text)\n",
    "\n",
    "# Mostrar ejemplos de texto original vs procesado\n",
    "examples = df[['text', 'cleaned_text', 'lemmatized_text']].head(5)\n",
    "for i, row in examples.iterrows():\n",
    "    print(f' Ejemplo {i+1}: ')\n",
    "    print(f\"Original: {row['text']}\")\n",
    "    print(f\"Limpiado: {row['cleaned_text']}\")\n",
    "    print(f\"Lematizado: {row['lemmatized_text']}\")\n",
    "    print('-' * 80)"
   ]
  },
  {
   "cell_type": "markdown",
   "id": "2268d691",
   "metadata": {},
   "source": [
    "Entrenamiento de la red neuronal."
   ]
  },
  {
   "cell_type": "code",
   "execution_count": 9,
   "id": "bd48678e",
   "metadata": {},
   "outputs": [],
   "source": [
    "TEXT_COLUMN = 'text'\n",
    "TARGET_COLUMN = 'label'\n",
    "\n",
    "# Vectorización del texto\n",
    "vectorizer = CountVectorizer(max_features=10000)\n",
    "X = vectorizer.fit_transform(df[TEXT_COLUMN]).toarray()\n",
    "y = LabelEncoder().fit_transform(df[TARGET_COLUMN])\n",
    "\n",
    "# División de datos\n",
    "X_train, X_test, y_train, y_test = train_test_split(X, y, test_size=0.2, random_state=42)\n",
    "\n",
    "# Definir la arquitectura de la red neuronal\n",
    "def create_model(input_dim, dropout_rate=0.3):\n",
    "    model = Sequential([\n",
    "        Dense(256, activation='relu', input_dim=input_dim),\n",
    "        Dropout(dropout_rate),\n",
    "        Dense(128, activation='relu'),\n",
    "        Dropout(dropout_rate),\n",
    "        Dense(64, activation='relu'),\n",
    "        Dropout(dropout_rate),\n",
    "        Dense(1, activation='sigmoid')\n",
    "    ])\n",
    "    model.compile(optimizer='adam',\n",
    "                 loss='binary_crossentropy',\n",
    "                 metrics=['accuracy'])\n",
    "    return model"
   ]
  },
  {
   "cell_type": "code",
   "execution_count": 11,
   "id": "ab4f358a",
   "metadata": {},
   "outputs": [
    {
     "name": "stderr",
     "output_type": "stream",
     "text": [
      "c:\\Users\\Usuario\\OneDrive\\IA\\Scripts\\Repos\\Bootcamp-IA-P4-project-x-nlp-team-3\\.venv\\Lib\\site-packages\\keras\\src\\layers\\core\\dense.py:93: UserWarning: Do not pass an `input_shape`/`input_dim` argument to a layer. When using Sequential models, prefer using an `Input(shape)` object as the first layer in the model instead.\n",
      "  super().__init__(activity_regularizer=activity_regularizer, **kwargs)\n"
     ]
    },
    {
     "name": "stdout",
     "output_type": "stream",
     "text": [
      "Epoch 1/20\n",
      "\u001b[1m600/600\u001b[0m \u001b[32m━━━━━━━━━━━━━━━━━━━━\u001b[0m\u001b[37m\u001b[0m \u001b[1m20s\u001b[0m 25ms/step - accuracy: 0.6763 - loss: 0.5828 - val_accuracy: 0.8071 - val_loss: 0.4286\n",
      "Epoch 2/20\n",
      "\u001b[1m600/600\u001b[0m \u001b[32m━━━━━━━━━━━━━━━━━━━━\u001b[0m\u001b[37m\u001b[0m \u001b[1m15s\u001b[0m 25ms/step - accuracy: 0.8743 - loss: 0.3063 - val_accuracy: 0.8105 - val_loss: 0.4533\n",
      "Epoch 3/20\n",
      "\u001b[1m600/600\u001b[0m \u001b[32m━━━━━━━━━━━━━━━━━━━━\u001b[0m\u001b[37m\u001b[0m \u001b[1m15s\u001b[0m 25ms/step - accuracy: 0.9434 - loss: 0.1522 - val_accuracy: 0.8080 - val_loss: 0.6065\n",
      "Epoch 4/20\n",
      "\u001b[1m600/600\u001b[0m \u001b[32m━━━━━━━━━━━━━━━━━━━━\u001b[0m\u001b[37m\u001b[0m \u001b[1m16s\u001b[0m 27ms/step - accuracy: 0.9789 - loss: 0.0628 - val_accuracy: 0.8005 - val_loss: 0.8106\n",
      "\u001b[1m188/188\u001b[0m \u001b[32m━━━━━━━━━━━━━━━━━━━━\u001b[0m\u001b[37m\u001b[0m \u001b[1m1s\u001b[0m 3ms/step\n",
      "\u001b[1m188/188\u001b[0m \u001b[32m━━━━━━━━━━━━━━━━━━━━\u001b[0m\u001b[37m\u001b[0m \u001b[1m1s\u001b[0m 5ms/step - accuracy: 0.7903 - loss: 0.4394\n"
     ]
    },
    {
     "name": "stderr",
     "output_type": "stream",
     "text": [
      "2025/07/09 08:37:02 WARNING mlflow.models.model: `artifact_path` is deprecated. Please use `name` instead.\n",
      "2025/07/09 08:37:02 WARNING mlflow.keras.save: You are saving a Keras model without specifying model signature.\n",
      "2025/07/09 08:37:26 WARNING mlflow.models.model: Model logged without a signature and input example. Please set `input_example` parameter when logging the model to auto infer the model signature.\n"
     ]
    },
    {
     "name": "stdout",
     "output_type": "stream",
     "text": [
      "\n",
      "Model Evaluation Results:\n",
      "Test Accuracy: 0.7911\n",
      "Test Loss: 0.4441\n",
      "ROC AUC: 0.8736\n",
      "Training Time: 68.46 seconds\n",
      "\n",
      "Classification Report:\n",
      "              precision    recall  f1-score   support\n",
      "\n",
      "           0       0.75      0.79      0.77      2646\n",
      "           1       0.83      0.79      0.81      3348\n",
      "\n",
      "    accuracy                           0.79      5994\n",
      "   macro avg       0.79      0.79      0.79      5994\n",
      "weighted avg       0.79      0.79      0.79      5994\n",
      "\n",
      "🏃 View run Toxic_Comments_Classification at: http://localhost:5000/#/experiments/919852534155930550/runs/6307dbf65bbf4968ac9c9c9fa8b7a672\n",
      "🧪 View experiment at: http://localhost:5000/#/experiments/919852534155930550\n"
     ]
    },
    {
     "data": {
      "image/png": "[encoded data removed]",
      "text/plain": [
       "<Figure size 800x600 with 2 Axes>"
      ]
     },
     "metadata": {},
     "output_type": "display_data"
    },
    {
     "data": {
      "image/png": "[encoded data removed]",
      "text/plain": [
       "<Figure size 800x600 with 1 Axes>"
      ]
     },
     "metadata": {},
     "output_type": "display_data"
    }
   ],
   "source": [
    "# Configurar MLflow\n",
    "mlflow.set_tracking_uri('http://localhost:5000')\n",
    "mlflow.set_experiment('Neural_Network_Model')\n",
    "\n",
    "# Entrenar el modelo y registrar métricas\n",
    "with mlflow.start_run(run_name=\"Toxic_Comments_Classification\"):\n",
    "    # Registrar parámetros\n",
    "    mlflow.log_params({\n",
    "        \"dropout_rate\": 0.3,\n",
    "        \"batch_size\": 32,\n",
    "        \"max_features\": 10000\n",
    "    })\n",
    "    \n",
    "    # Medir tiempo de entrenamiento\n",
    "    start_time = time.time()\n",
    "    \n",
    "    # Crear y entrenar el modelo\n",
    "    model = create_model(X_train.shape[1])\n",
    "    early_stopping = EarlyStopping(monitor='val_loss', patience=3, restore_best_weights=True)\n",
    "    \n",
    "    history = model.fit(\n",
    "        X_train, y_train,\n",
    "        epochs=20,\n",
    "        batch_size=32,\n",
    "        validation_split=0.2,\n",
    "        callbacks=[early_stopping]\n",
    "    )\n",
    "    \n",
    "    training_time = time.time() - start_time\n",
    "    \n",
    "    # Evaluación del modelo\n",
    "    y_pred = model.predict(X_test)\n",
    "    y_pred_classes = (y_pred > 0.5).astype(int)\n",
    "    \n",
    "    # Calcular métricas detalladas\n",
    "    test_loss, test_accuracy = model.evaluate(X_test, y_test)\n",
    "    classification_rep = classification_report(y_test, y_pred_classes)\n",
    "    conf_matrix = confusion_matrix(y_test, y_pred_classes)\n",
    "    \n",
    "    # Calcular ROC y AUC\n",
    "    fpr, tpr, _ = roc_curve(y_test, y_pred)\n",
    "    roc_auc = auc(fpr, tpr)\n",
    "    \n",
    "    # Registrar métricas en MLflow\n",
    "    mlflow.log_metrics({\n",
    "        \"test_accuracy\": test_accuracy,\n",
    "        \"test_loss\": test_loss,\n",
    "        \"roc_auc\": roc_auc,\n",
    "        \"training_time\": training_time,\n",
    "        \"final_val_accuracy\": history.history['val_accuracy'][-1],\n",
    "        \"final_val_loss\": history.history['val_loss'][-1]\n",
    "    })\n",
    "    \n",
    "    # Visualizar y guardar la matriz de confusión\n",
    "    plt.figure(figsize=(8, 6))\n",
    "    sns.heatmap(conf_matrix, annot=True, fmt='d', cmap='Blues')\n",
    "    plt.title('Confusion Matrix')\n",
    "    plt.ylabel('True Label')\n",
    "    plt.xlabel('Predicted Label')\n",
    "    plt.savefig('confusion_matrix.png')\n",
    "    mlflow.log_artifact('confusion_matrix.png')\n",
    "    \n",
    "    # Visualizar y guardar la curva ROC\n",
    "    plt.figure(figsize=(8, 6))\n",
    "    plt.plot(fpr, tpr, color='darkorange', lw=2, label=f'ROC curve (AUC = {roc_auc:.2f})')\n",
    "    plt.plot([0, 1], [0, 1], color='navy', lw=2, linestyle='--')\n",
    "    plt.xlim([0.0, 1.0])\n",
    "    plt.ylim([0.0, 1.05])\n",
    "    plt.xlabel('False Positive Rate')\n",
    "    plt.ylabel('True Positive Rate')\n",
    "    plt.title('Receiver Operating Characteristic (ROC) Curve')\n",
    "    plt.legend(loc=\"lower right\")\n",
    "    plt.savefig('roc_curve.png')\n",
    "    mlflow.log_artifact('roc_curve.png')\n",
    "    \n",
    "    # Guardar el modelo\n",
    "    mlflow.keras.log_model(model, \"model\")\n",
    "    \n",
    "    # Imprimir resultados\n",
    "    print(\"\\nModel Evaluation Results:\")\n",
    "    print(f\"Test Accuracy: {test_accuracy:.4f}\")\n",
    "    print(f\"Test Loss: {test_loss:.4f}\")\n",
    "    print(f\"ROC AUC: {roc_auc:.4f}\")\n",
    "    print(f\"Training Time: {training_time:.2f} seconds\")\n",
    "    print(\"\\nClassification Report:\")\n",
    "    print(classification_rep)"
   ]
  },
  {
   "cell_type": "code",
   "execution_count": null,
   "id": "7f247571",
   "metadata": {},
   "outputs": [],
   "source": [
    "# Importar pickle\n",
    "import pickle\n",
    "\n",
    "# Guardar el modelo en formato .pkl\n",
    "with open('../Models/keraskeras_model.pkl', 'wb') as f:\n",
    "    pickle.dump(model, f)\n",
    "\n",
    "# También guardar el vectorizador para futuros usos\n",
    "with open('../Models/keras/keras_vectorizer.pkl', 'wb') as f:\n",
    "    pickle.dump(vectorizer, f)"
   ]
  }
 ],
 "metadata": {
  "kernelspec": {
   "display_name": ".venv",
   "language": "python",
   "name": "python3"
  },
  "language_info": {
   "codemirror_mode": {
    "name": "ipython",
    "version": 3
   },
   "file_extension": ".py",
   "mimetype": "text/x-python",
   "name": "python",
   "nbconvert_exporter": "python",
   "pygments_lexer": "ipython3",
   "version": "3.11.9"
  }
 },
 "nbformat": 4,
 "nbformat_minor": 5
}
