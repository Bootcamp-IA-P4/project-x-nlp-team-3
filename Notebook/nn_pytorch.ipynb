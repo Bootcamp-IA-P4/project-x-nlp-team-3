{
 "cells": [
  {
   "cell_type": "code",
   "execution_count": null,
   "id": "abb09d96",
   "metadata": {},
   "outputs": [],
   "source": [
    "import pandas as pd\n",
    "import torch\n",
    "import torch.nn as nn\n",
    "import torch.optim as optim\n",
    "import mlflow\n",
    "import mlflow.pytorch\n",
    "import numpy as np"
   ]
  },
  {
   "cell_type": "markdown",
   "id": "edbf6521",
   "metadata": {},
   "source": [
    "Definir la red neuronal"
   ]
  },
  {
   "cell_type": "code",
   "execution_count": null,
   "id": "69364140",
   "metadata": {},
   "outputs": [],
   "source": [
    "class SimpleNN(nn.Module):\n",
    "    def __init__(self, input_dim, hidden_dim, output_dim):\n",
    "        super(SimpleNN, self).__init__()\n",
    "        self.fc1 = nn.Linear(input_dim, hidden_dim)\n",
    "        self.relu = nn.ReLU()\n",
    "        self.fc2 = nn.Linear(hidden_dim, output_dim)\n",
    "\n",
    "    def forward(self, x):\n",
    "        out = self.fc1(x)\n",
    "        out = self.relu(out)\n",
    "        out = self.fc2(out)\n",
    "        return out"
   ]
  },
  {
   "cell_type": "code",
   "execution_count": null,
   "id": "591794e1",
   "metadata": {},
   "outputs": [],
   "source": [
    "# Load the CSV file\n",
    "df = pd.read_csv(\"fusion30.csv\")\n",
    "\n",
    "input_dim = 10\n",
    "hidden_dim = 16\n",
    "output_dim = 2\n",
    "epochs = 10\n",
    "learning_rate = 0.001"
   ]
  },
  {
   "cell_type": "code",
   "execution_count": null,
   "id": "3673fe50",
   "metadata": {},
   "outputs": [],
   "source": [
    "# Start an MLflow run for experiment tracking\n",
    "with mlflow.start_run(\"Toxic_Comments_Classification_Pytorch\"):\n",
    "    # Log hyperparameters\n",
    "    mlflow.log_param(\"input_dim\", input_dim)\n",
    "    mlflow.log_param(\"hidden_dim\", hidden_dim)\n",
    "    mlflow.log_param(\"output_dim\", output_dim)\n",
    "    mlflow.log_param(\"epochs\", epochs)\n",
    "    mlflow.log_param(\"learning_rate\", learning_rate)\n",
    "\n",
    "    # Model, loss, optimizer\n",
    "    model = SimpleNN(input_dim, hidden_dim, output_dim)\n",
    "    criterion = nn.CrossEntropyLoss()\n",
    "    optimizer = optim.Adam(model.parameters(), lr=learning_rate)\n",
    "\n",
    "    for epoch in range(epochs):\n",
    "        optimizer.zero_grad()\n",
    "        outputs = model(X)\n",
    "        loss = criterion(outputs, y)\n",
    "        loss.backward()\n",
    "        optimizer.step()\n",
    "\n",
    "        # Log loss for each epoch\n",
    "        mlflow.log_metric(\"loss\", loss.item(), step=epoch)\n",
    "        print(f\"Epoch [{epoch+1}/{epochs}], Loss: {loss.item():.4f}\")\n",
    "\n",
    "    # Log the trained model\n",
    "    mlflow.pytorch.log_model(model, \"model\")"
   ]
  }
 ],
 "metadata": {
  "kernelspec": {
   "display_name": ".venv",
   "language": "python",
   "name": "python3"
  },
  "language_info": {
   "name": "python",
   "version": "3.11.9"
  }
 },
 "nbformat": 4,
 "nbformat_minor": 5
}
