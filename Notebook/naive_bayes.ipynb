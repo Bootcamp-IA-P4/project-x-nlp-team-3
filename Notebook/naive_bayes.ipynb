{
 "cells": [
  {
   "cell_type": "code",
   "execution_count": null,
   "metadata": {},
   "outputs": [],
   "source": [
    "import gzip\n",
    "import requests\n",
    "from io import BytesIO, StringIO\n",
    "import pandas as pd\n",
    "\n",
    "from sklearn.model_selection import train_test_split\n",
    "from sklearn.feature_extraction.text import CountVectorizer\n",
    "from sklearn.naive_bayes import GaussianNB, MultinomialNB, BernoulliNB\n",
    "from sklearn.metrics import accuracy_score, f1_score, recall_score, precision_score\n",
    "\n",
    "\n",
    "import mlflow\n",
    "import mlflow.sklearn"
   ]
  },
  {
   "cell_type": "code",
   "execution_count": null,
   "metadata": {},
   "outputs": [
    {
     "name": "stdout",
     "output_type": "stream",
     "text": [
      "🔗 Downloading data from GitHub...\n",
      "❌ Error while downloading data: 404 Client Error: Not Found for url: https://raw.githubusercontent.com/Bootcamp-IA-P4/Bootcamp-IA-P4-project-x-nlp-team-3/blob/feature/eda/Data/comments_data_clean.csv\n"
     ]
    }
   ],
   "source": [
    "GITHUB_CLEAN_URL = \"https://raw.githubusercontent.com/Bootcamp-IA-P4/Bootcamp-IA-P4-project-x-nlp-team-3/feature/eda/Data/comments_data_clean.csv\"\n",
    "\n",
    "def load_comments_data_from_github(url):\n",
    "    \"\"\"\n",
    "    Downloading and processing comments data from GitHub repository.\n",
    "    \"\"\"\n",
    "    print(\"🔗 Downloading data from GitHub...\")\n",
    "\n",
    "    try:\n",
    "        response = requests.get(url)\n",
    "        response.raise_for_status()\n",
    "\n",
    "        print(\"📊 Reading CSV file...\")\n",
    "\n",
    "        df = pd.read_csv(StringIO(response.text))\n",
    "\n",
    "        print(\"✅ Data downloaded successfully!\")\n",
    "        return df\n",
    "\n",
    "    except Exception as e:\n",
    "        print(f\"❌ Error while downloading data: {e}\")\n",
    "        return None\n",
    "\n",
    "# Creating dataframe from GitHub URL\n",
    "df = load_comments_data_from_github(GITHUB_CLEAN_URL)"
   ]
  },
  {
   "cell_type": "code",
   "execution_count": null,
   "metadata": {},
   "outputs": [],
   "source": [
    "TEXT_COLUMN = 'Text'      # Nombre correcto de la columna de texto\n",
    "TARGET_COLUMN = 'IsToxic' # Cambia si tu columna objetivo tiene otro nombre\n",
    "\n",
    "# Elimina columnas no deseadas\n",
    "columnas_a_eliminar = [col for col in df.columns if col not in [TEXT_COLUMN, TARGET_COLUMN]]\n",
    "df = df.drop(columns=columnas_a_eliminar)\n",
    "\n",
    "# Vectorización del texto\n",
    "vectorizer = CountVectorizer()\n",
    "X = vectorizer.fit_transform(df[TEXT_COLUMN])\n",
    "y = df[TARGET_COLUMN]\n",
    "\n",
    "# División de datos\n",
    "X_train, X_test, y_train, y_test = train_test_split(X, y, test_size=0.2, random_state=42)\n",
    "\n",
    "with mlflow.start_run(run_name=\"NaiveBayes_Models_Multinominal\"):\n",
    "    # MultinomialNB\n",
    "    mnb = MultinomialNB()\n",
    "    mnb.fit(X_train, y_train)\n",
    "    y_pred_mnb = mnb.predict(X_test)\n",
    "    acc_mnb = accuracy_score(y_test, y_pred_mnb)\n",
    "    f1_score_mnb = f1_score(y_test, y_pred_mnb, average='weighted')\n",
    "    recall_mnb = recall_score(y_test, y_pred_mnb, average='weighted')\n",
    "    precision_mnb = precision_score(y_test, y_pred_mnb, average='weighted')\n",
    "    print(\"MultinomialNB entrenado correctamente:\")\n",
    "    mlflow.log_metric(\"accuracy\", acc_mnb)\n",
    "    mlflow.log_metric(\"f1_score\", f1_score_mnb)\n",
    "    mlflow.log_metric(\"recall\", recall_mnb)\n",
    "    mlflow.log_metric(\"precision\", precision_mnb)\n",
    "\n",
    "with mlflow.start_run(run_name=\"NaiveBayes_Models_Bernoulli\"):\n",
    "    # BernoulliNB\n",
    "    bnb = BernoulliNB()\n",
    "    bnb.fit(X_train, y_train)\n",
    "    y_pred_bnb = bnb.predict(X_test)\n",
    "    acc_bnb = accuracy_score(y_test, y_pred_bnb)\n",
    "    f1_score_gnb = f1_score(y_test, y_pred_mnb, average='weighted')\n",
    "    recall_bnb = recall_score(y_test, y_pred_mnb, average='weighted')\n",
    "    precision_bnb = precision_score(y_test, y_pred_mnb, average='weighted')\n",
    "    print(\"BernoulliNB entrenado correctamente\")\n",
    "    mlflow.log_metric(\"accuracy\", acc_bnb)\n",
    "    mlflow.log_metric(\"f1_score\", f1_score_gnb)\n",
    "    mlflow.log_metric(\"recall\", recall_bnb)\n",
    "    mlflow.log_metric(\"precision\", precision_bnb)\n",
    "\n",
    "with mlflow.start_run(run_name=\"NaiveBayes_Models_Gaussian\"):\n",
    "     # GaussianNB requiere arrays densos\n",
    "    X_train_dense = X_train.toarray()\n",
    "    X_test_dense = X_test.toarray()\n",
    "    gnb = GaussianNB()\n",
    "    gnb.fit(X_train_dense, y_train)\n",
    "    y_pred_gnb = gnb.predict(X_test_dense)\n",
    "    acc_gnb = accuracy_score(y_test, y_pred_gnb)\n",
    "    f1_score_gnb = f1_score(y_test, y_pred_mnb, average='weighted')\n",
    "    recall_gnb = recall_score(y_test, y_pred_mnb, average='weighted')\n",
    "    precision_gnb = precision_score(y_test, y_pred_mnb, average='weighted')\n",
    "    print(\"GaussianNB entrenado correctamente\")\n",
    "    mlflow.log_metric(\"accuracy\", acc_gnb)\n",
    "    mlflow.log_metric(\"f1_score\", f1_score_gnb)\n",
    "    mlflow.log_metric(\"recall\", recall_gnb)\n",
    "    mlflow.log_metric(\"precision\", precision_gnb)"
   ]
  }
 ],
 "metadata": {
  "kernelspec": {
   "display_name": ".venv",
   "language": "python",
   "name": "python3"
  },
  "language_info": {
   "codemirror_mode": {
    "name": "ipython",
    "version": 3
   },
   "file_extension": ".py",
   "mimetype": "text/x-python",
   "name": "python",
   "nbconvert_exporter": "python",
   "pygments_lexer": "ipython3",
   "version": "3.11.9"
  }
 },
 "nbformat": 4,
 "nbformat_minor": 2
}
