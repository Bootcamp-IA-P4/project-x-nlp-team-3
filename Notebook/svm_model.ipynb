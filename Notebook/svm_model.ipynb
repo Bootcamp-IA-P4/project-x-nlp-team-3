{
 "cells": [
  {
   "cell_type": "code",
   "execution_count": 7,
   "id": "34fbc579",
   "metadata": {},
   "outputs": [],
   "source": [
    "import gzip\n",
    "import requests\n",
    "from io import BytesIO, StringIO\n",
    "\n",
    "import pandas as pd\n",
    "from sklearn.model_selection import train_test_split, GridSearchCV\n",
    "from sklearn.feature_extraction.text import CountVectorizer\n",
    "from sklearn.svm import SVC\n",
    "from sklearn.pipeline import Pipeline\n",
    "from sklearn.metrics import accuracy_score, f1_score, recall_score, precision_score\n",
    "import mlflow\n",
    "import mlflow.sklearn\n",
    "import joblib"
   ]
  },
  {
   "cell_type": "code",
   "execution_count": 8,
   "id": "3a382410",
   "metadata": {},
   "outputs": [
    {
     "name": "stdout",
     "output_type": "stream",
     "text": [
      "🔗 Downloading data from GitHub...\n",
      "📊 Reading CSV file...\n",
      "✅ Data downloaded successfully!\n"
     ]
    }
   ],
   "source": [
    "GITHUB_CLEAN_URL = \"https://raw.githubusercontent.com/Bootcamp-IA-P4/Bootcamp-IA-P4-project-x-nlp-team-3/feature/eda/Data/comments_data_clean.csv\"\n",
    "\n",
    "def load_comments_data_from_github(url):\n",
    "    \"\"\"\n",
    "    Downloading and processing comments data from GitHub repository.\n",
    "    \"\"\"\n",
    "    print(\"🔗 Downloading data from GitHub...\")\n",
    "\n",
    "    try:\n",
    "        response = requests.get(url)\n",
    "        response.raise_for_status()\n",
    "\n",
    "        print(\"📊 Reading CSV file...\")\n",
    "\n",
    "        df = pd.read_csv(StringIO(response.text))\n",
    "\n",
    "        print(\"✅ Data downloaded successfully!\")\n",
    "        return df\n",
    "\n",
    "    except Exception as e:\n",
    "        print(f\"❌ Error while downloading data: {e}\")\n",
    "        return None\n",
    "\n",
    "# Creating dataframe from GitHub URL\n",
    "df = load_comments_data_from_github(GITHUB_CLEAN_URL)"
   ]
  },
  {
   "cell_type": "code",
   "execution_count": null,
   "id": "314c3e73",
   "metadata": {},
   "outputs": [
    {
     "name": "stdout",
     "output_type": "stream",
     "text": [
      "Mejores parámetros: {'svc__C': 150, 'svc__kernel': 'rbf'}\n",
      "Mejor F1: 0.6549\n",
      "Accuracy: 0.6700 | F1: 0.6663 | Recall: 0.6700 | Precision: 0.6898\n"
     ]
    }
   ],
   "source": [
    "TEXT_COLUMN = 'Text'\n",
    "TARGET_COLUMN = 'IsToxic'\n",
    "\n",
    "X = df[TEXT_COLUMN]\n",
    "y = df[TARGET_COLUMN]\n",
    "\n",
    "# División de datos\n",
    "X_train, X_test, y_train, y_test = train_test_split(X, y, test_size=0.2, random_state=42)\n",
    "\n",
    "# Pipeline SVM\n",
    "pipeline = Pipeline([\n",
    "    ('vectorizer', CountVectorizer()),\n",
    "    ('svc', SVC())\n",
    "])\n",
    "\n",
    "# Búsqueda de hiperparámetros\n",
    "param_grid = {\n",
    "    'svc__C': [0.1, 1, 10],\n",
    "    'svc__kernel': ['linear', 'rbf']\n",
    "}\n",
    "\n",
    "grid = GridSearchCV(pipeline, param_grid, cv=3, scoring='f1_weighted')\n",
    "grid.fit(X_train, y_train)\n",
    "\n",
    "print(f\"Mejores parámetros: {grid.best_params_}\")\n",
    "print(f\"Mejor F1: {grid.best_score_:.4f}\")\n",
    "\n",
    "# Evaluación y logging con MLflow\n",
    "with mlflow.start_run(run_name=\"SVM_Text_Classification\"):\n",
    "    best_model = grid.best_estimator_\n",
    "    # Predicciones en test\n",
    "    y_pred = best_model.predict(X_test)\n",
    "    acc = accuracy_score(y_test, y_pred)\n",
    "    f1 = f1_score(y_test, y_pred, average='weighted')\n",
    "    recall = recall_score(y_test, y_pred, average='weighted')\n",
    "    precision = precision_score(y_test, y_pred, average='weighted')\n",
    "    print(f\"Accuracy: {acc:.4f} | F1: {f1:.4f} | Recall: {recall:.4f} | Precision: {precision:.4f}\")\n",
    "\n",
    "    # Predicciones en train para calcular overfitting\n",
    "    y_pred_train = best_model.predict(X_train)\n",
    "    f1_train = f1_score(y_train, y_pred_train, average='weighted')\n",
    "    overfit_f1 = f1_train - f1\n",
    "    print(f\"F1 Entrenamiento: {f1_train:.4f} | F1 Prueba: {f1:.4f} | Overfitting F1: {overfit_f1:.4f}\")\n",
    "\n",
    "    mlflow.log_params(grid.best_params_)\n",
    "    mlflow.log_metric(\"accuracy\", acc)\n",
    "    mlflow.log_metric(\"f1_score\", f1)\n",
    "    mlflow.log_metric(\"recall\", recall)\n",
    "    mlflow.log_metric(\"precision\", precision)\n",
    "    mlflow.log_metric(\"train_f1_score\", f1_train)\n",
    "    mlflow.log_metric(\"overfit_f1\", overfit_f1)"
   ]
  }
 ],
 "metadata": {
  "kernelspec": {
   "display_name": ".venv",
   "language": "python",
   "name": "python3"
  },
  "language_info": {
   "codemirror_mode": {
    "name": "ipython",
    "version": 3
   },
   "file_extension": ".py",
   "mimetype": "text/x-python",
   "name": "python",
   "nbconvert_exporter": "python",
   "pygments_lexer": "ipython3",
   "version": "3.11.9"
  }
 },
 "nbformat": 4,
 "nbformat_minor": 5
}
